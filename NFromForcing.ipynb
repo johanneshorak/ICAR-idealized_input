{
 "cells": [
  {
   "cell_type": "code",
   "execution_count": 57,
   "metadata": {},
   "outputs": [
    {
     "name": "stdout",
     "output_type": "stream",
     "text": [
      "The autoreload extension is already loaded. To reload it, use:\n",
      "  %reload_ext autoreload\n"
     ]
    }
   ],
   "source": [
    "import xarray as xa\n",
    "import numpy as np\n",
    "import matplotlib as mpl\n",
    "import matplotlib.pyplot as plt\n",
    "import lib.atmosphere as atm\n",
    "import lib.physics as phy\n",
    "import seaborn as sns\n",
    "\n",
    "%load_ext autoreload\n",
    "%autoreload 2"
   ]
  },
  {
   "cell_type": "code",
   "execution_count": 2,
   "metadata": {},
   "outputs": [],
   "source": [
    "fds = xa.open_dataset('./forcings/southern_nz_6a_icar-095_erai_165,176,-48,-40_30-04-2015-to-01-06-2015.nc')"
   ]
  },
  {
   "cell_type": "code",
   "execution_count": 3,
   "metadata": {},
   "outputs": [
    {
     "data": {
      "text/plain": [
       "<xarray.Dataset>\n",
       "Dimensions:  (Time: 136, bottom_top: 60, south_north: 14, west_east: 18)\n",
       "Coordinates:\n",
       "  * Time     (Time) datetime64[ns] 2015-04-30 ... 2015-06-02T18:00:00\n",
       "Dimensions without coordinates: bottom_top, south_north, west_east\n",
       "Data variables:\n",
       "    XLONG    (Time, south_north, west_east) float64 ...\n",
       "    XLAT     (Time, south_north, west_east) float64 ...\n",
       "    HGT      (Time, south_north, west_east) float32 ...\n",
       "    U        (Time, bottom_top, south_north, west_east) float32 ...\n",
       "    V        (Time, bottom_top, south_north, west_east) float32 ...\n",
       "    P        (Time, bottom_top, south_north, west_east) float64 ...\n",
       "    PH       (Time, bottom_top, south_north, west_east) float64 ...\n",
       "    QVAPOR   (Time, bottom_top, south_north, west_east) float32 ...\n",
       "    QCLOUD   (Time, bottom_top, south_north, west_east) float32 ...\n",
       "    QICE     (Time, bottom_top, south_north, west_east) float32 ...\n",
       "    PB       (Time, bottom_top, south_north, west_east) float64 ...\n",
       "    PHB      (Time, bottom_top, south_north, west_east) float64 ...\n",
       "    TSK      (Time, bottom_top, south_north, west_east) float64 ...\n",
       "    TH       (Time, bottom_top, south_north, west_east) float64 ..."
      ]
     },
     "execution_count": 3,
     "metadata": {},
     "output_type": "execute_result"
    }
   ],
   "source": [
    "Nx = fds.west_east.shape[0]\n",
    "Ny = fds.south_north.shape[0]\n",
    "Nz = fds.bottom_top.shape[0]\n",
    "Nt = fds.Time.shape[0]\n",
    "\n",
    "fds"
   ]
  },
  {
   "cell_type": "code",
   "execution_count": 4,
   "metadata": {},
   "outputs": [],
   "source": [
    "nx = 9\n",
    "ny = 7\n",
    "nt = 5"
   ]
  },
  {
   "cell_type": "code",
   "execution_count": 33,
   "metadata": {},
   "outputs": [],
   "source": [
    "N_arr = np.zeros(Nt*Nz*Ny*Nx).reshape(Nt,Nz,Ny,Nx)\n",
    "N2_arr = np.zeros(Nt*Nz*Ny*Nx).reshape(Nt,Nz,Ny,Nx)"
   ]
  },
  {
   "cell_type": "code",
   "execution_count": 6,
   "metadata": {},
   "outputs": [],
   "source": [
    "TABS = atm.t_from_tpot(tpot=fds['TH'].values,p=fds['P'].values)"
   ]
  },
  {
   "cell_type": "code",
   "execution_count": 46,
   "metadata": {},
   "outputs": [
    {
     "name": "stdout",
     "output_type": "stream",
     "text": [
      "timestep 0/136\n",
      "timestep 10/136\n",
      "timestep 20/136\n",
      "timestep 30/136\n",
      "timestep 40/136\n",
      "timestep 50/136\n",
      "timestep 60/136\n",
      "timestep 70/136\n",
      "timestep 80/136\n",
      "timestep 90/136\n",
      "timestep 100/136\n",
      "timestep 110/136\n",
      "timestep 120/136\n",
      "timestep 130/136\n"
     ]
    }
   ],
   "source": [
    "N_min = 1*10**-7\n",
    "N_max = 6*10**-4\n",
    "\n",
    "# this would have to consider snow and ice as well, but ERAI doesn't calculate those.\n",
    "MRMOISTURE = fds['QCLOUD'].values+fds['QICE'].values\n",
    "\n",
    "for nt in range(Nt):\n",
    "    if nt%10 == 0:\n",
    "        print('timestep {:n}/{:n}'.format(nt,Nt))\n",
    "        \n",
    "    for nx in range(Nx):\n",
    "        for ny in range(Ny):\n",
    "            z_arr = fds.PH[nt,:,ny,nx]\n",
    "            th_arr = fds.TH[nt,:,ny,nx]\n",
    "                    \n",
    "                    # decide whether to calculate dry or moist stability:\n",
    "            mrmoisture_arr = MRMOISTURE[nt,:,ny,nx]\n",
    "            \n",
    "            N2_col  = np.zeros(Nz)\n",
    "            N2m_col = np.zeros(Nz)\n",
    "            \n",
    "            N2_col[:-1] = atm.calc_dry_stability_squared(\n",
    "                    th_top = th_arr[1:],\n",
    "                    th_bot = th_arr[:-1],\n",
    "                    z_top  = z_arr[1:],\n",
    "                    z_bot  = z_arr[:-1]\n",
    "                )\n",
    "            \n",
    "            if len(mrmoisture_arr[mrmoisture_arr <  10**-7] > 0):\n",
    "                N2m_col[:-1] = atm.calc_moist_stability_squared(\n",
    "                    t_top   = TABS[nt,n+1,ny,nx],\n",
    "                    t_bot   = TABS[nt,n,ny,nx],\n",
    "                    mrv_top = fds['QVAPOR'].values[nt,n+1,ny,nx],\n",
    "                    mrv_bot = fds['QVAPOR'].values[nt,n,ny,nx],\n",
    "                    mrc     = fds['QCLOUD'].values[nt,n,ny,nx],\n",
    "                    z_top   = z_arr[n+1],\n",
    "                    z_bot   = z_arr[n]\n",
    "                )    \n",
    "            \n",
    "            N2_col[-1]  = N2_col[-2]\n",
    "            N2m_col[-1] = N2m_col[-2]\n",
    "            \n",
    "            N2_col[ (N2_col  < 0) | (N2_col  < N_min)] = N_min\n",
    "            N2m_col[(N2m_col < 0) | (N2m_col < N_min)] = N_min\n",
    "            \n",
    "            N2_col[ N2_col  > N_max] = N_max\n",
    "            N2m_col[N2m_col > N_max] = N_max\n",
    "            \n",
    "            N2_arr[nt,:,ny,nx][mrmoisture_arr <  10**-7] = N2_col[mrmoisture_arr <  10**-7]\n",
    "            N2_arr[nt,:,ny,nx][mrmoisture_arr >= 10**-7] = N2m_col[mrmoisture_arr >= 10**-7]"
   ]
  },
  {
   "cell_type": "code",
   "execution_count": 55,
   "metadata": {},
   "outputs": [],
   "source": [
    "N_arr = np.sqrt(N2_arr)"
   ]
  },
  {
   "cell_type": "code",
   "execution_count": 7,
   "metadata": {},
   "outputs": [
    {
     "name": "stdout",
     "output_type": "stream",
     "text": [
      "timestep 0/136\n",
      "timestep 10/136\n",
      "timestep 20/136\n",
      "timestep 30/136\n",
      "timestep 40/136\n",
      "timestep 50/136\n",
      "timestep 60/136\n",
      "timestep 70/136\n",
      "timestep 80/136\n",
      "timestep 90/136\n",
      "timestep 100/136\n",
      "timestep 110/136\n",
      "timestep 120/136\n",
      "timestep 130/136\n"
     ]
    }
   ],
   "source": [
    "N_min = np.sqrt(1*10**-7)\n",
    "N_max = np.sqrt(6*10**-4)\n",
    "\n",
    "for nt in range(Nt):\n",
    "    if nt%10 == 0:\n",
    "        print('timestep {:n}/{:n}'.format(nt,Nt))\n",
    "    \n",
    "    for nx in range(Nx):\n",
    "        for ny in range(Ny):\n",
    "            z_arr = fds.PH[nt,:,ny,nx].values\n",
    "            th_arr = fds.TH[nt,:,ny,nx].values\n",
    "            \n",
    "            lth1 = np.log(th_arr[1:])\n",
    "            lth0 = np.log(th_arr[:-1])\n",
    "            dlth = lth1-lth0\n",
    "            dz   = z_arr[1:]-z_arr[:-1]\n",
    "            frac      = np.zeros(Nz)\n",
    "            frac[:-1] = dlth/dz\n",
    "            frac[-1]  = frac[-2]\n",
    "\n",
    "            N_arr[nt,:,ny,nx][frac<0]=N_min\n",
    "            N_arr[nt,:,ny,nx][frac>=0]=np.sqrt(9.81*(frac[frac>=0]))\n",
    "            N_arr[nt,:,ny,nx][N_arr[nt,:,ny,nx]<N_min] = N_min\n",
    "            N_arr[nt,:,ny,nx][N_arr[nt,:,ny,nx]>N_max] = N_max"
   ]
  },
  {
   "cell_type": "code",
   "execution_count": 8,
   "metadata": {},
   "outputs": [],
   "source": [
    "lr = atm.calc_sat_lapse_rate(T=TABS,mr=fds['QVAPOR'].values)"
   ]
  },
  {
   "cell_type": "code",
   "execution_count": 14,
   "metadata": {},
   "outputs": [
    {
     "data": {
      "text/plain": [
       "[<matplotlib.lines.Line2D at 0x7f8d62506668>]"
      ]
     },
     "execution_count": 14,
     "metadata": {},
     "output_type": "execute_result"
    },
    {
     "data": {
      "image/png": "[encoded data removed]",
      "text/plain": [
       "<Figure size 432x288 with 1 Axes>"
      ]
     },
     "metadata": {
      "needs_background": "light"
     },
     "output_type": "display_data"
    }
   ],
   "source": [
    "plt.plot(lr[0,:,0,0])\n",
    "plt.plot(lr[0,:,6,5])"
   ]
  },
  {
   "cell_type": "code",
   "execution_count": 7,
   "metadata": {},
   "outputs": [],
   "source": [
    "N_arr = np.zeros(Nt*Nz*Ny*Nx).reshape(Nt,Nz,Ny,Nx)"
   ]
  },
  {
   "cell_type": "code",
   "execution_count": 32,
   "metadata": {},
   "outputs": [
    {
     "name": "stdout",
     "output_type": "stream",
     "text": [
      "timestep 0/136\n"
     ]
    },
    {
     "ename": "KeyboardInterrupt",
     "evalue": "",
     "output_type": "error",
     "traceback": [
      "\u001b[0;31m---------------------------------------------------------------------------\u001b[0m",
      "\u001b[0;31mKeyboardInterrupt\u001b[0m                         Traceback (most recent call last)",
      "\u001b[0;32m<ipython-input-32-8cecb3d3d4ac>\u001b[0m in \u001b[0;36m<module>\u001b[0;34m\u001b[0m\n\u001b[1;32m     24\u001b[0m                             \u001b[0mth_bot\u001b[0m \u001b[0;34m=\u001b[0m \u001b[0mth_arr\u001b[0m\u001b[0;34m[\u001b[0m\u001b[0mn\u001b[0m\u001b[0;34m]\u001b[0m\u001b[0;34m,\u001b[0m\u001b[0;34m\u001b[0m\u001b[0;34m\u001b[0m\u001b[0m\n\u001b[1;32m     25\u001b[0m                             \u001b[0mz_top\u001b[0m  \u001b[0;34m=\u001b[0m \u001b[0mz_arr\u001b[0m\u001b[0;34m[\u001b[0m\u001b[0mn\u001b[0m\u001b[0;34m+\u001b[0m\u001b[0;36m1\u001b[0m\u001b[0;34m]\u001b[0m\u001b[0;34m,\u001b[0m\u001b[0;34m\u001b[0m\u001b[0;34m\u001b[0m\u001b[0m\n\u001b[0;32m---> 26\u001b[0;31m                             \u001b[0mz_bot\u001b[0m  \u001b[0;34m=\u001b[0m \u001b[0mz_arr\u001b[0m\u001b[0;34m[\u001b[0m\u001b[0mn\u001b[0m\u001b[0;34m]\u001b[0m\u001b[0;34m\u001b[0m\u001b[0;34m\u001b[0m\u001b[0m\n\u001b[0m\u001b[1;32m     27\u001b[0m                         )\n\u001b[1;32m     28\u001b[0m                     \u001b[0;32melse\u001b[0m\u001b[0;34m:\u001b[0m\u001b[0;34m\u001b[0m\u001b[0;34m\u001b[0m\u001b[0m\n",
      "\u001b[0;32m~/coding/ICAR-idealized_input/lib/atmosphere.py\u001b[0m in \u001b[0;36mcalc_dry_stability_squared\u001b[0;34m(th_top, th_bot, z_top, z_bot)\u001b[0m\n\u001b[1;32m    199\u001b[0m     \u001b[0mg0\u001b[0m \u001b[0;34m=\u001b[0m \u001b[0mc_G\u001b[0m\u001b[0;34m\u001b[0m\u001b[0;34m\u001b[0m\u001b[0m\n\u001b[1;32m    200\u001b[0m \u001b[0;34m\u001b[0m\u001b[0m\n\u001b[0;32m--> 201\u001b[0;31m     \u001b[0mN2\u001b[0m \u001b[0;34m=\u001b[0m \u001b[0mg0\u001b[0m\u001b[0;34m*\u001b[0m\u001b[0;34m(\u001b[0m\u001b[0mnp\u001b[0m\u001b[0;34m.\u001b[0m\u001b[0mlog\u001b[0m\u001b[0;34m(\u001b[0m\u001b[0mth_top\u001b[0m\u001b[0;34m)\u001b[0m\u001b[0;34m-\u001b[0m\u001b[0mnp\u001b[0m\u001b[0;34m.\u001b[0m\u001b[0mlog\u001b[0m\u001b[0;34m(\u001b[0m\u001b[0mth_bot\u001b[0m\u001b[0;34m)\u001b[0m\u001b[0;34m)\u001b[0m\u001b[0;34m/\u001b[0m\u001b[0;34m(\u001b[0m\u001b[0mz_top\u001b[0m\u001b[0;34m-\u001b[0m\u001b[0mz_bot\u001b[0m\u001b[0;34m)\u001b[0m\u001b[0;34m\u001b[0m\u001b[0;34m\u001b[0m\u001b[0m\n\u001b[0m\u001b[1;32m    202\u001b[0m \u001b[0;34m\u001b[0m\u001b[0m\n\u001b[1;32m    203\u001b[0m     \u001b[0;32mreturn\u001b[0m \u001b[0mN2\u001b[0m\u001b[0;34m\u001b[0m\u001b[0;34m\u001b[0m\u001b[0m\n",
      "\u001b[0;32m~/.local/lib/python3.6/site-packages/xarray/core/dataarray.py\u001b[0m in \u001b[0;36mfunc\u001b[0;34m(self, other)\u001b[0m\n\u001b[1;32m   2510\u001b[0m                 \u001b[0;32melse\u001b[0m \u001b[0mf\u001b[0m\u001b[0;34m(\u001b[0m\u001b[0mother_variable\u001b[0m\u001b[0;34m,\u001b[0m \u001b[0mself\u001b[0m\u001b[0;34m.\u001b[0m\u001b[0mvariable\u001b[0m\u001b[0;34m)\u001b[0m\u001b[0;34m\u001b[0m\u001b[0;34m\u001b[0m\u001b[0m\n\u001b[1;32m   2511\u001b[0m             )\n\u001b[0;32m-> 2512\u001b[0;31m             \u001b[0mcoords\u001b[0m\u001b[0;34m,\u001b[0m \u001b[0mindexes\u001b[0m \u001b[0;34m=\u001b[0m \u001b[0mself\u001b[0m\u001b[0;34m.\u001b[0m\u001b[0mcoords\u001b[0m\u001b[0;34m.\u001b[0m\u001b[0m_merge_raw\u001b[0m\u001b[0;34m(\u001b[0m\u001b[0mother_coords\u001b[0m\u001b[0;34m)\u001b[0m\u001b[0;34m\u001b[0m\u001b[0;34m\u001b[0m\u001b[0m\n\u001b[0m\u001b[1;32m   2513\u001b[0m             \u001b[0mname\u001b[0m \u001b[0;34m=\u001b[0m \u001b[0mself\u001b[0m\u001b[0;34m.\u001b[0m\u001b[0m_result_name\u001b[0m\u001b[0;34m(\u001b[0m\u001b[0mother\u001b[0m\u001b[0;34m)\u001b[0m\u001b[0;34m\u001b[0m\u001b[0;34m\u001b[0m\u001b[0m\n\u001b[1;32m   2514\u001b[0m \u001b[0;34m\u001b[0m\u001b[0m\n",
      "\u001b[0;32m~/.local/lib/python3.6/site-packages/xarray/core/coordinates.py\u001b[0m in \u001b[0;36m_merge_raw\u001b[0;34m(self, other)\u001b[0m\n\u001b[1;32m    124\u001b[0m             \u001b[0mindexes\u001b[0m \u001b[0;34m=\u001b[0m \u001b[0mdict\u001b[0m\u001b[0;34m(\u001b[0m\u001b[0mself\u001b[0m\u001b[0;34m.\u001b[0m\u001b[0mindexes\u001b[0m\u001b[0;34m)\u001b[0m\u001b[0;34m\u001b[0m\u001b[0;34m\u001b[0m\u001b[0m\n\u001b[1;32m    125\u001b[0m         \u001b[0;32melse\u001b[0m\u001b[0;34m:\u001b[0m\u001b[0;34m\u001b[0m\u001b[0;34m\u001b[0m\u001b[0m\n\u001b[0;32m--> 126\u001b[0;31m             \u001b[0mvariables\u001b[0m\u001b[0;34m,\u001b[0m \u001b[0mindexes\u001b[0m \u001b[0;34m=\u001b[0m \u001b[0mmerge_coordinates_without_align\u001b[0m\u001b[0;34m(\u001b[0m\u001b[0;34m[\u001b[0m\u001b[0mself\u001b[0m\u001b[0;34m,\u001b[0m \u001b[0mother\u001b[0m\u001b[0;34m]\u001b[0m\u001b[0;34m)\u001b[0m\u001b[0;34m\u001b[0m\u001b[0;34m\u001b[0m\u001b[0m\n\u001b[0m\u001b[1;32m    127\u001b[0m         \u001b[0;32mreturn\u001b[0m \u001b[0mvariables\u001b[0m\u001b[0;34m,\u001b[0m \u001b[0mindexes\u001b[0m\u001b[0;34m\u001b[0m\u001b[0;34m\u001b[0m\u001b[0m\n\u001b[1;32m    128\u001b[0m \u001b[0;34m\u001b[0m\u001b[0m\n",
      "\u001b[0;32m~/.local/lib/python3.6/site-packages/xarray/core/merge.py\u001b[0m in \u001b[0;36mmerge_coordinates_without_align\u001b[0;34m(objects, prioritized, exclude_dims)\u001b[0m\n\u001b[1;32m    317\u001b[0m         \u001b[0mfiltered\u001b[0m \u001b[0;34m=\u001b[0m \u001b[0mcollected\u001b[0m\u001b[0;34m\u001b[0m\u001b[0;34m\u001b[0m\u001b[0m\n\u001b[1;32m    318\u001b[0m \u001b[0;34m\u001b[0m\u001b[0m\n\u001b[0;32m--> 319\u001b[0;31m     \u001b[0;32mreturn\u001b[0m \u001b[0mmerge_collected\u001b[0m\u001b[0;34m(\u001b[0m\u001b[0mfiltered\u001b[0m\u001b[0;34m,\u001b[0m \u001b[0mprioritized\u001b[0m\u001b[0;34m)\u001b[0m\u001b[0;34m\u001b[0m\u001b[0;34m\u001b[0m\u001b[0m\n\u001b[0m\u001b[1;32m    320\u001b[0m \u001b[0;34m\u001b[0m\u001b[0m\n\u001b[1;32m    321\u001b[0m \u001b[0;34m\u001b[0m\u001b[0m\n",
      "\u001b[0;32m~/.local/lib/python3.6/site-packages/xarray/core/merge.py\u001b[0m in \u001b[0;36mmerge_collected\u001b[0;34m(grouped, prioritized, compat)\u001b[0m\n\u001b[1;32m    217\u001b[0m                 \u001b[0mvariables\u001b[0m \u001b[0;34m=\u001b[0m \u001b[0;34m[\u001b[0m\u001b[0mvariable\u001b[0m \u001b[0;32mfor\u001b[0m \u001b[0mvariable\u001b[0m\u001b[0;34m,\u001b[0m \u001b[0m_\u001b[0m \u001b[0;32min\u001b[0m \u001b[0melements_list\u001b[0m\u001b[0;34m]\u001b[0m\u001b[0;34m\u001b[0m\u001b[0;34m\u001b[0m\u001b[0m\n\u001b[1;32m    218\u001b[0m                 \u001b[0;32mtry\u001b[0m\u001b[0;34m:\u001b[0m\u001b[0;34m\u001b[0m\u001b[0;34m\u001b[0m\u001b[0m\n\u001b[0;32m--> 219\u001b[0;31m                     \u001b[0mmerged_vars\u001b[0m\u001b[0;34m[\u001b[0m\u001b[0mname\u001b[0m\u001b[0;34m]\u001b[0m \u001b[0;34m=\u001b[0m \u001b[0munique_variable\u001b[0m\u001b[0;34m(\u001b[0m\u001b[0mname\u001b[0m\u001b[0;34m,\u001b[0m \u001b[0mvariables\u001b[0m\u001b[0;34m,\u001b[0m \u001b[0mcompat\u001b[0m\u001b[0;34m)\u001b[0m\u001b[0;34m\u001b[0m\u001b[0;34m\u001b[0m\u001b[0m\n\u001b[0m\u001b[1;32m    220\u001b[0m                 \u001b[0;32mexcept\u001b[0m \u001b[0mMergeError\u001b[0m\u001b[0;34m:\u001b[0m\u001b[0;34m\u001b[0m\u001b[0;34m\u001b[0m\u001b[0m\n\u001b[1;32m    221\u001b[0m                     \u001b[0;32mif\u001b[0m \u001b[0mcompat\u001b[0m \u001b[0;34m!=\u001b[0m \u001b[0;34m\"minimal\"\u001b[0m\u001b[0;34m:\u001b[0m\u001b[0;34m\u001b[0m\u001b[0;34m\u001b[0m\u001b[0m\n",
      "\u001b[0;32m~/.local/lib/python3.6/site-packages/xarray/core/merge.py\u001b[0m in \u001b[0;36munique_variable\u001b[0;34m(name, variables, compat, equals)\u001b[0m\n\u001b[1;32m    118\u001b[0m     \u001b[0;32mif\u001b[0m \u001b[0mcompat\u001b[0m \u001b[0;34m==\u001b[0m \u001b[0;34m\"broadcast_equals\"\u001b[0m\u001b[0;34m:\u001b[0m\u001b[0;34m\u001b[0m\u001b[0;34m\u001b[0m\u001b[0m\n\u001b[1;32m    119\u001b[0m         \u001b[0mdim_lengths\u001b[0m \u001b[0;34m=\u001b[0m \u001b[0mbroadcast_dimension_size\u001b[0m\u001b[0;34m(\u001b[0m\u001b[0mvariables\u001b[0m\u001b[0;34m)\u001b[0m\u001b[0;34m\u001b[0m\u001b[0;34m\u001b[0m\u001b[0m\n\u001b[0;32m--> 120\u001b[0;31m         \u001b[0mout\u001b[0m \u001b[0;34m=\u001b[0m \u001b[0mout\u001b[0m\u001b[0;34m.\u001b[0m\u001b[0mset_dims\u001b[0m\u001b[0;34m(\u001b[0m\u001b[0mdim_lengths\u001b[0m\u001b[0;34m)\u001b[0m\u001b[0;34m\u001b[0m\u001b[0;34m\u001b[0m\u001b[0m\n\u001b[0m\u001b[1;32m    121\u001b[0m \u001b[0;34m\u001b[0m\u001b[0m\n\u001b[1;32m    122\u001b[0m     \u001b[0;32mif\u001b[0m \u001b[0mcompat\u001b[0m \u001b[0;34m==\u001b[0m \u001b[0;34m\"no_conflicts\"\u001b[0m\u001b[0;34m:\u001b[0m\u001b[0;34m\u001b[0m\u001b[0;34m\u001b[0m\u001b[0m\n",
      "\u001b[0;32m~/.local/lib/python3.6/site-packages/xarray/core/variable.py\u001b[0m in \u001b[0;36mset_dims\u001b[0;34m(self, dims, shape)\u001b[0m\n\u001b[1;32m   1285\u001b[0m \u001b[0;34m\u001b[0m\u001b[0m\n\u001b[1;32m   1286\u001b[0m         expanded_var = Variable(\n\u001b[0;32m-> 1287\u001b[0;31m             \u001b[0mexpanded_dims\u001b[0m\u001b[0;34m,\u001b[0m \u001b[0mexpanded_data\u001b[0m\u001b[0;34m,\u001b[0m \u001b[0mself\u001b[0m\u001b[0;34m.\u001b[0m\u001b[0m_attrs\u001b[0m\u001b[0;34m,\u001b[0m \u001b[0mself\u001b[0m\u001b[0;34m.\u001b[0m\u001b[0m_encoding\u001b[0m\u001b[0;34m,\u001b[0m \u001b[0mfastpath\u001b[0m\u001b[0;34m=\u001b[0m\u001b[0;32mTrue\u001b[0m\u001b[0;34m\u001b[0m\u001b[0;34m\u001b[0m\u001b[0m\n\u001b[0m\u001b[1;32m   1288\u001b[0m         )\n\u001b[1;32m   1289\u001b[0m         \u001b[0;32mreturn\u001b[0m \u001b[0mexpanded_var\u001b[0m\u001b[0;34m.\u001b[0m\u001b[0mtranspose\u001b[0m\u001b[0;34m(\u001b[0m\u001b[0;34m*\u001b[0m\u001b[0mdims\u001b[0m\u001b[0;34m)\u001b[0m\u001b[0;34m\u001b[0m\u001b[0;34m\u001b[0m\u001b[0m\n",
      "\u001b[0;32m~/.local/lib/python3.6/site-packages/xarray/core/variable.py\u001b[0m in \u001b[0;36m__init__\u001b[0;34m(self, dims, data, attrs, encoding, fastpath)\u001b[0m\n\u001b[1;32m    302\u001b[0m             \u001b[0munrecognized\u001b[0m \u001b[0mencoding\u001b[0m \u001b[0mitems\u001b[0m\u001b[0;34m.\u001b[0m\u001b[0;34m\u001b[0m\u001b[0;34m\u001b[0m\u001b[0m\n\u001b[1;32m    303\u001b[0m         \"\"\"\n\u001b[0;32m--> 304\u001b[0;31m         \u001b[0mself\u001b[0m\u001b[0;34m.\u001b[0m\u001b[0m_data\u001b[0m \u001b[0;34m=\u001b[0m \u001b[0mas_compatible_data\u001b[0m\u001b[0;34m(\u001b[0m\u001b[0mdata\u001b[0m\u001b[0;34m,\u001b[0m \u001b[0mfastpath\u001b[0m\u001b[0;34m=\u001b[0m\u001b[0mfastpath\u001b[0m\u001b[0;34m)\u001b[0m\u001b[0;34m\u001b[0m\u001b[0;34m\u001b[0m\u001b[0m\n\u001b[0m\u001b[1;32m    305\u001b[0m         \u001b[0mself\u001b[0m\u001b[0;34m.\u001b[0m\u001b[0m_dims\u001b[0m \u001b[0;34m=\u001b[0m \u001b[0mself\u001b[0m\u001b[0;34m.\u001b[0m\u001b[0m_parse_dimensions\u001b[0m\u001b[0;34m(\u001b[0m\u001b[0mdims\u001b[0m\u001b[0;34m)\u001b[0m\u001b[0;34m\u001b[0m\u001b[0;34m\u001b[0m\u001b[0m\n\u001b[1;32m    306\u001b[0m         \u001b[0mself\u001b[0m\u001b[0;34m.\u001b[0m\u001b[0m_attrs\u001b[0m \u001b[0;34m=\u001b[0m \u001b[0;32mNone\u001b[0m\u001b[0;34m\u001b[0m\u001b[0;34m\u001b[0m\u001b[0m\n",
      "\u001b[0;32m~/.local/lib/python3.6/site-packages/xarray/core/variable.py\u001b[0m in \u001b[0;36mas_compatible_data\u001b[0;34m(data, fastpath)\u001b[0m\n\u001b[1;32m    175\u001b[0m     \u001b[0mFinally\u001b[0m\u001b[0;34m,\u001b[0m \u001b[0mwrap\u001b[0m \u001b[0mit\u001b[0m \u001b[0mup\u001b[0m \u001b[0;32mwith\u001b[0m \u001b[0man\u001b[0m \u001b[0madapter\u001b[0m \u001b[0;32mif\u001b[0m \u001b[0mnecessary\u001b[0m\u001b[0;34m.\u001b[0m\u001b[0;34m\u001b[0m\u001b[0;34m\u001b[0m\u001b[0m\n\u001b[1;32m    176\u001b[0m     \"\"\"\n\u001b[0;32m--> 177\u001b[0;31m     \u001b[0;32mif\u001b[0m \u001b[0mfastpath\u001b[0m \u001b[0;32mand\u001b[0m \u001b[0mgetattr\u001b[0m\u001b[0;34m(\u001b[0m\u001b[0mdata\u001b[0m\u001b[0;34m,\u001b[0m \u001b[0;34m\"ndim\"\u001b[0m\u001b[0;34m,\u001b[0m \u001b[0;36m0\u001b[0m\u001b[0;34m)\u001b[0m \u001b[0;34m>\u001b[0m \u001b[0;36m0\u001b[0m\u001b[0;34m:\u001b[0m\u001b[0;34m\u001b[0m\u001b[0;34m\u001b[0m\u001b[0m\n\u001b[0m\u001b[1;32m    178\u001b[0m         \u001b[0;31m# can't use fastpath (yet) for scalars\u001b[0m\u001b[0;34m\u001b[0m\u001b[0;34m\u001b[0m\u001b[0;34m\u001b[0m\u001b[0m\n\u001b[1;32m    179\u001b[0m         \u001b[0;32mreturn\u001b[0m \u001b[0m_maybe_wrap_data\u001b[0m\u001b[0;34m(\u001b[0m\u001b[0mdata\u001b[0m\u001b[0;34m)\u001b[0m\u001b[0;34m\u001b[0m\u001b[0;34m\u001b[0m\u001b[0m\n",
      "\u001b[0;31mKeyboardInterrupt\u001b[0m: "
     ]
    }
   ],
   "source": [
    "N_min = 1*10**-7\n",
    "N_max = 6*10**-4\n",
    "\n",
    "# this would have to consider snow and ice as well, but ERAI doesn't calculate those.\n",
    "MRMOISTURE = fds['QCLOUD'].values+fds['QICE'].values\n",
    "\n",
    "for nt in range(1):\n",
    "    #if nt%10 == 0:\n",
    "    print('timestep {:n}/{:n}'.format(nt,Nt))\n",
    "        \n",
    "    for nx in range(Nx):\n",
    "        for ny in range(Ny):\n",
    "            z_arr = fds.PH[nt,:,ny,nx]\n",
    "            th_arr = fds.TH[nt,:,ny,nx]\n",
    "            for n, z in enumerate(z_arr):\n",
    "                if n < len(z_arr)-1:\n",
    "                    \n",
    "                    # decide whether to calculate dry or moist stability:\n",
    "                    \n",
    "\n",
    "                    if MRMOISTURE[nt,n,ny,nx] < 10**-7:\n",
    "                        N2 = atm.calc_dry_stability_squared(\n",
    "                            th_top = th_arr[n+1],\n",
    "                            th_bot = th_arr[n],\n",
    "                            z_top  = z_arr[n+1],\n",
    "                            z_bot  = z_arr[n]\n",
    "                        )\n",
    "                    else:\n",
    "                        N2 = atm.calc_moist_stability_squared(\n",
    "                            t_top   = TABS[nt,n+1,ny,nx],\n",
    "                            t_bot   = TABS[nt,n,ny,nx],\n",
    "                            mrv_top = fds['QVAPOR'].values[nt,n+1,ny,nx],\n",
    "                            mrv_bot = fds['QVAPOR'].values[nt,n,ny,nx],\n",
    "                            mrc     = fds['QCLOUD'].values[nt,n,ny,nx],\n",
    "                            z_top   = z_arr[n+1],\n",
    "                            z_bot   = z_arr[n]\n",
    "                        )    \n",
    "                    \n",
    "                    if N2 < 0:\n",
    "                        N   = N_min\n",
    "                    else:\n",
    "                        N   = np.sqrt(N2)\n",
    "\n",
    "                        \n",
    "                        \n",
    "                    if N < N_min:\n",
    "                        N = N_min\n",
    "                    elif N > N_max:\n",
    "                        N = N_max\n",
    "                    \n",
    "                    N_arr[nt,n,ny,nx] = N\n",
    "                                      \n",
    "            N_arr[nt,-1,ny,nx] = N_arr[nt,-2,ny,nx]"
   ]
  },
  {
   "cell_type": "code",
   "execution_count": 28,
   "metadata": {},
   "outputs": [
    {
     "data": {
      "text/plain": [
       "0"
      ]
     },
     "execution_count": 28,
     "metadata": {},
     "output_type": "execute_result"
    }
   ],
   "source": [
    "nt"
   ]
  },
  {
   "cell_type": "code",
   "execution_count": 23,
   "metadata": {},
   "outputs": [
    {
     "data": {
      "text/plain": [
       "[<matplotlib.lines.Line2D at 0x7fd1de0969b0>]"
      ]
     },
     "execution_count": 23,
     "metadata": {},
     "output_type": "execute_result"
    },
    {
     "data": {
      "image/png": "[encoded data removed]",
      "text/plain": [
       "<Figure size 432x288 with 1 Axes>"
      ]
     },
     "metadata": {
      "needs_background": "light"
     },
     "output_type": "display_data"
    }
   ],
   "source": [
    "plt.plot(z_arr/1000,N_arr)"
   ]
  },
  {
   "cell_type": "code",
   "execution_count": 62,
   "metadata": {},
   "outputs": [
    {
     "data": {
      "text/plain": [
       "(60,)"
      ]
     },
     "execution_count": 62,
     "metadata": {},
     "output_type": "execute_result"
    }
   ],
   "source": [
    "frac.shape"
   ]
  },
  {
   "cell_type": "code",
   "execution_count": 19,
   "metadata": {},
   "outputs": [
    {
     "data": {
      "text/plain": [
       "<matplotlib.colorbar.Colorbar at 0x7f8d621fb5f8>"
      ]
     },
     "execution_count": 19,
     "metadata": {},
     "output_type": "execute_result"
    },
    {
     "data": {
      "image/png": "[encoded data removed]",
      "text/plain": [
       "<Figure size 432x288 with 2 Axes>"
      ]
     },
     "metadata": {
      "needs_background": "light"
     },
     "output_type": "display_data"
    }
   ],
   "source": [
    "plt.pcolormesh(N_arr[0,5,:])\n",
    "plt.colorbar()"
   ]
  },
  {
   "cell_type": "code",
   "execution_count": null,
   "metadata": {},
   "outputs": [],
   "source": [
    "plt.pcolormesh()"
   ]
  }
 ],
 "metadata": {
  "kernelspec": {
   "display_name": "Python 3",
   "language": "python",
   "name": "python3"
  },
  "language_info": {
   "codemirror_mode": {
    "name": "ipython",
    "version": 3
   },
   "file_extension": ".py",
   "mimetype": "text/x-python",
   "name": "python",
   "nbconvert_exporter": "python",
   "pygments_lexer": "ipython3",
   "version": "3.6.8"
  }
 },
 "nbformat": 4,
 "nbformat_minor": 2
}
