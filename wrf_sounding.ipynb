{
 "cells": [
  {
   "cell_type": "code",
   "execution_count": 1,
   "metadata": {},
   "outputs": [],
   "source": [
    "%load_ext autoreload"
   ]
  },
  {
   "cell_type": "code",
   "execution_count": 2,
   "metadata": {},
   "outputs": [],
   "source": [
    "import numpy as np\n",
    "import matplotlib as mpl\n",
    "import matplotlib.pyplot as plt\n",
    "import xarray as xa\n",
    "import lib.utilities as utl\n",
    "import lib.wrf_tools as wtl\n",
    "import pandas as pd\n",
    "from scipy import interpolate\n",
    "\n",
    "%autoreload 2\n",
    "\n",
    "def tpot_from_N(Tb,N,z,dz):\n",
    "\tg0=9.80665\n",
    "\ttpot = Tb*np.exp((N**2/g0)*(z+dz))\n",
    "\treturn tpot\n",
    "\n",
    "def tpot_from_N_new(Tb,N,z):\n",
    "    g0=9.80655\n",
    "    tpot = Tb*np.exp((N**2/g0)*z)\n",
    "    return tpot\n",
    "\n",
    "# derive potential temperature from a prescribed Brunt Väisälä array (for each z level)\n",
    "def tpot_from_N_arr(Tb,N_arr,z_arr):\n",
    "    g0=9.80655\n",
    "    dz_arr = np.zeros(len(z_arr))\n",
    "    tpot   = np.zeros(len(z_arr))\n",
    "    \n",
    "    dz_arr[0]  = z_arr[1]\n",
    "    dz_arr[1:] = z_arr[1:]-z_arr[:-1]\n",
    "    \n",
    "    tpot[0] = Tb*np.exp((N_arr[0]**2/g0)*dz_arr[0])\n",
    "    for n in range(1,len(z_arr)):\n",
    "        tpot[n] = tpot[n-1]*np.exp((N_arr[n-1]**2/g0)*dz_arr[n-1])\n",
    "    return tpot\n",
    "\n",
    "# use combination of constant N and standard atmosphere\n",
    "# th from constant N for z <= 10000\n",
    "# th between 10000 and 11277.92 - linear interpolation for smooth transition\n",
    "# th from standard atmosphere for z >= 11277.92\n",
    "def tpot_from_N_and_tpotstandard(Tb,N,z,dz):\n",
    "    tpot = tpot_from_N(Tb,N,z,dz)\n",
    "    \n",
    "    fth_ideal         = interpolate.interp1d(z_ideal,tpot_ideal,kind='linear',fill_value='extrapolate')\n",
    "    th_ideal_on_z_arr = fth_ideal(z)\n",
    "    \n",
    "    zl = 9000\n",
    "    zr = 11277.92\n",
    "    \n",
    "    th_transition         = interpolate.interp1d([zl,zr],[tpot[z==zl],fth_ideal(zr)],kind='linear')\n",
    "    \n",
    "    tpot[z>=zr]           = th_ideal_on_z_arr[z>=zr]\n",
    "    tpot[(z>zl) & (z<zr)] = th_transition(z[(z>zl) & (z<zr)])\n",
    "    \n",
    "    return tpot\n",
    "\n",
    "def tpot_from_dth(Tb,dth,z,dThPer100m=False):\n",
    "    if dThPer100m:     # this should be the standard\n",
    "        dthperm  = 0.3/100. # calculate change of th per meter K m**-1\n",
    "        tpot_arr = np.zeros(len(z))\n",
    "        dzarr    = np.zeros(len(z))\n",
    "        dzarr[0] = z[0]\n",
    "        dzarr[1:]= z[1:]-z[:-1]\n",
    "        dth_arr  = dzarr*dthperm\n",
    "        tpot_arr[0]  = Tb+dth_arr[0]\n",
    "        for n in range(1,len(z)):\n",
    "            tpot_arr[n] = tpot_arr[n-1]+dth_arr[n]\n",
    "    else:              # here we assume that the caller specifies dTh according to the dz spacing\n",
    "        dth_arr  = np.arange(1.,len(z)+1,1.)\n",
    "        tpot_arr = Tb+dth_arr*dth\n",
    "    return tpot_arr\n",
    "\n",
    "# calculate density when pressure and potential temperature are given\n",
    "# uses ideal gas equation\n",
    "def rho_ideal_gas(p,th):\n",
    "    RS  = 287.058 # specific gas constant in  J/kgK\n",
    "    t   = t_from_tpot(th,p)\n",
    "    rho = p/(RS*t)\n",
    "    \n",
    "    return rho\n",
    "\n",
    "def deltap(rho,deltaz):\n",
    "    \n",
    "    if deltaz == 0:\n",
    "        dp = 0\n",
    "    else:\n",
    "        dp = -rho*deltaz*9.81 \n",
    "    \n",
    "    return dp\n",
    "\n",
    "def calculate_saturation_pressures(t):\n",
    "\t#result = 611.21 * 10**((7.5*t)/(t+237.3))\n",
    "\tresult = 610.8*np.exp(17.27*t/(t+237.3)) # in Pa, t in deg. C\n",
    "\treturn result\n",
    "\n",
    "def calculate_qv_from_rh(rh,prs_sat,prs):\n",
    "\tc_Rwv  = \t461.5 # J/kgK spec. gas constant for water vapor\n",
    "\tc_Rair =\t286.9 # J/kgK spec. gas constant for dry air\n",
    "\tresult = np.zeros(len(prs))\n",
    "\tresult[prs>=500] = rh/100.0 * ((c_Rair/c_Rwv)*(prs_sat[prs>=500]/prs[prs>=500]))\n",
    "\treturn result\n",
    "\n",
    "def t_from_tpot(tpot,p):\n",
    "\tt = tpot/((10.0**5.0/p)**(2.0/7.0))\n",
    "\treturn t\n",
    "\n",
    "def tpot_from_t(t,p):\n",
    "    tpot = t*((10.0**5.0/p)**(2.0/7.0))\n",
    "    return tpot\n",
    "\n",
    "def barometric_formula(h):\n",
    "\tM=0.0289644\t\t# molar mass of air, kg/mol\n",
    "\tg0=9.80665\t\t# gravitational acceleration m/s^2\n",
    "\tR=8.3144598\t\t# universal gas constant, J/(mol*K)\n",
    "\n",
    "\tif 0<= h and h < 11000:\n",
    "\t\tTb = 288.15\n",
    "\t\tLb = -0.0065\n",
    "\t\tPb = 101325.0\n",
    "\t\thb = 0.0\n",
    "\t\tb=0\n",
    "\telif 11000 <= h and h < 20000:\n",
    "\t\tTb = 216.65\n",
    "\t\tLb = 0.000001\n",
    "\t\tPb = 22632.10\n",
    "\t\thb = 11000.0\n",
    "\t\tb=1\n",
    "\telif 20000 <= h and h < 32000:\n",
    "\t\tTb = 216.65\n",
    "\t\tLb = 0.001\n",
    "\t\tPb = 5474.89\n",
    "\t\thb = 20000.0\n",
    "\t\tb=2\n",
    "\telif 32000 <= h and h < 47000:\n",
    "\t\tTb = 228.65\n",
    "\t\tLb = 0.0028\n",
    "\t\tPb = 868.02\n",
    "\t\thb = 32000.0\n",
    "\t\tb=3\n",
    "\telif 47000 <= h and h < 51000:\n",
    "\t\tTb = 270.65\n",
    "\t\tLb = 0.000001\n",
    "\t\tPb = 110.91\n",
    "\t\thb = 47000.0\n",
    "\t\tb=4\n",
    "\telif 51000 <= h and h < 71000:\n",
    "\t\tTb = 270.65\n",
    "\t\tLb = -0.0028\n",
    "\t\tPb = 66.94\n",
    "\t\thb = 51000.0\n",
    "\t\tb=5\n",
    "\telse:\n",
    "\t\tTb = 214.65\n",
    "\t\tLb = -0.002\n",
    "\t\tPb = 3.96\n",
    "\t\thb = 70000.0\n",
    "\t\tb=6\n",
    "\n",
    "\tP = Pb*(Tb/(Tb+Lb*(h-hb)))**(g0*M/(R*Lb))\t\t# as seen in, e.g. https://en.wikipedia.org/wiki/Barometric_formula\n",
    "\treturn P\n",
    "\n",
    "def p_from_th(p0,z_arr,th_arr):\n",
    "    p_arr = np.zeros(len(z_arr))\n",
    "    \n",
    "    for n, z in enumerate(z_arr):\n",
    "\n",
    "        if n == 0:\n",
    "            th  = Tb\n",
    "            pm1 = p0\n",
    "            dz  = 0\n",
    "        else:\n",
    "            th  = th_arr[n]\n",
    "            pm1 = p_arr[n-1]\n",
    "            dz  = z_arr[n]-z_arr[n-1]\n",
    "\n",
    "        rho      = rho_ideal_gas(pm1,th)\n",
    "        p_arr[n] = pm1+deltap(rho=rho,deltaz=dz)\n",
    "\n",
    "    return p_arr"
   ]
  },
  {
   "cell_type": "code",
   "execution_count": 3,
   "metadata": {},
   "outputs": [],
   "source": [
    "stdatm_df = pd.read_html('https://www.ecmwf.int/en/forecasts/documentation-and-support/137-model-levels')[0].iloc[1:]\n",
    "stdatm_df = stdatm_df.infer_objects()\n",
    "stdatm_df[\"pf [hPa]\"] = stdatm_df[\"pf [hPa]\"].astype(float)\n",
    "stdatm_df[\"Geopotential Altitude [m]\"] = stdatm_df[\"Geopotential Altitude [m]\"].astype(float)\n",
    "stdatm_df['Temperature [K]'] = stdatm_df['Temperature [K]'].astype(float)\n",
    "stdatm_df['Geometric Altitude [m]'] = stdatm_df['Geometric Altitude [m]'].astype(float)\n",
    "stdatm_df['Density [kg/m^3]'] = stdatm_df['Density [kg/m^3]'].astype(float)"
   ]
  },
  {
   "cell_type": "code",
   "execution_count": 4,
   "metadata": {},
   "outputs": [],
   "source": [
    "z_ideal    = np.flip(stdatm_df[\"Geopotential Altitude [m]\"].values)\n",
    "t_ideal    = np.flip(stdatm_df[\"Temperature [K]\"].values)\n",
    "p_ideal    = np.flip(stdatm_df[\"pf [hPa]\"].values)\n",
    "tpot_ideal = tpot_from_t(t_ideal,p_ideal*100)\n",
    "N_ideal    = np.zeros(len(z_ideal))\n",
    "for n, z in enumerate(z_ideal):\n",
    "    if n < len(z_ideal)-1:\n",
    "        N_ideal[n]  = np.sqrt(9.81*(np.log(tpot_ideal[n+1])-np.log(tpot_ideal[n]))/(z_ideal[n+1]-z_ideal[n]))"
   ]
  },
  {
   "cell_type": "markdown",
   "metadata": {},
   "source": [
    "# Generate a WRF sounding"
   ]
  },
  {
   "cell_type": "code",
   "execution_count": 6,
   "metadata": {},
   "outputs": [
    {
     "name": "stderr",
     "output_type": "stream",
     "text": [
      "/home/hosch/.local/lib/python3.6/site-packages/ipykernel_launcher.py:92: RuntimeWarning: overflow encountered in exp\n"
     ]
    },
    {
     "name": "stdout",
     "output_type": "stream",
     "text": [
      "calculating qv from rh\n",
      "vertical wavelength: 12566\n",
      "dimensionless inverse mountain height: 2.00\n",
      "\n"
     ]
    },
    {
     "data": {
      "image/png": "[encoded data removed]",
      "text/plain": [
       "<Figure size 1008x432 with 6 Axes>"
      ]
     },
     "metadata": {
      "needs_background": "light"
     },
     "output_type": "display_data"
    }
   ],
   "source": [
    "# plot standard atmosphere or test fields as well\n",
    "plot_stdatm = False\n",
    "\n",
    "# set parameters\n",
    "a0    = 1000\n",
    "a1    = 20000\n",
    "\n",
    "N     = 0.01\n",
    "ws    = 20.0\n",
    "Tb    = 270\n",
    "p0    = 101325  #hPa surface pressure\n",
    "zmax  = 30000\n",
    "dz    = 50.0\n",
    "rh    = 100\n",
    "rhtop = zmax #30000\n",
    "\n",
    "z_arr  = np.arange(0,zmax+dz,dz)\n",
    "Nz     = len(z_arr)\n",
    "\n",
    "# use two Ns with a transitional region in between\n",
    "Nzl = 13000\n",
    "Nzr = 23000\n",
    "Nl  = N\n",
    "Nr  = 0.023\n",
    "\n",
    "f_Nprescribed_transition = interpolate.interp1d([Nzl,Nzr],[Nl,Nr])\n",
    "\n",
    "N_prescribed_arr = np.zeros(Nz)\n",
    "N_prescribed_arr[z_arr<=Nzl] = Nl\n",
    "N_prescribed_arr[z_arr>Nzr]  = Nr\n",
    "N_prescribed_arr[(z_arr>=Nzl) & (z_arr<=Nzr)] = f_Nprescribed_transition(z_arr[(z_arr>=Nzl) & (z_arr<=Nzr)])\n",
    "\n",
    "th_arr   = tpot_from_N(Tb,N,z_arr,dz)                    # th derived from a constant N\n",
    "th_arr2  = tpot_from_dth(Tb,0.15,z_arr)                  # th derived from a lapse rate\n",
    "th_arr3  = tpot_from_N_new(Tb,N,z_arr)                   # th derived from a constant N (slight difference in equation)\n",
    "th_arr4  = tpot_from_N_and_tpotstandard(Tb,N,z_arr,dz)   # th derived from a constant N and above given heigth from standard atmosphere\n",
    "th_arr5  = tpot_from_N_arr(Tb,N_prescribed_arr,z_arr)    # th derived from a prescribed N(z). e.g. 0.01 below 10km\n",
    "                                                         # and above 0.02. Or with a defined transition zone btw. two levels\n",
    "#th_arr   = th_arr5\n",
    "    \n",
    "qv_arr  = z_arr*0\n",
    "\n",
    "u_arr   = np.ones(Nz)*ws\n",
    "v_arr   = np.zeros(Nz)\n",
    "p_arr   = np.zeros(Nz)\n",
    "N_arr   = np.zeros(Nz-1)\n",
    "N_arr5  = np.zeros(Nz-1)\n",
    "\n",
    "p_arr  = p_from_th(p0=p0,z_arr=z_arr,th_arr=th_arr)\n",
    "p_arr5 = p_from_th(p0=p0,z_arr=z_arr,th_arr=th_arr5)\n",
    "\n",
    "for n, z in enumerate(z_arr):\n",
    "    if n < len(z_arr)-1:\n",
    "        N_arr[n]   = np.sqrt(9.81*(np.log(th_arr[n+1])-np.log(th_arr[n]))/(z_arr[n+1]-z_arr[n]))\n",
    "        N_arr5[n]  = np.sqrt(9.81*(np.log(th_arr5[n+1])-np.log(th_arr5[n]))/(z_arr[n+1]-z_arr[n]))\n",
    "\n",
    "t_arr    = t_from_tpot(th_arr,p_arr)\n",
    "t_arr5   = t_from_tpot(th_arr5,p_arr5)\n",
    "psat_arr = calculate_saturation_pressures(t_arr-273.15)\n",
    "\n",
    "if rh > 0:\n",
    "    print('calculating qv from rh')\n",
    "    qv_arr                   = calculate_qv_from_rh(rh,psat_arr,p_arr)*1000. # wrf wants it in g/kg\n",
    "    qv_arr[np.isinf(qv_arr)] = 0.0 # remove potential infinities\n",
    "    qv_arr[qv_arr<10**-20]   = 0\n",
    "\n",
    "print('vertical wavelength: {:4.0f}'.format(2*np.pi*ws/N))\n",
    "print('dimensionless inverse mountain height: {:1.2f}'.format(ws/(N*a0)))\n",
    "\n",
    "\n",
    "if rhtop != 0:\n",
    "    qv = qv_arr[0]+qv_arr[0]-qv_arr[1]\n",
    "else:\n",
    "    qv = 0\n",
    "\n",
    "f, ax = plt.subplots(1,6,figsize=(14,6))\n",
    "ax[0].plot(z_arr, t_arr-273.15)\n",
    "ax[1].plot(z_arr, th_arr)\n",
    "ax[2].plot(z_arr, p_arr/100)\n",
    "ax[3].plot(z_arr, qv_arr)\n",
    "ax[4].plot(z_arr[:-1], N_arr)\n",
    "ax[5].plot(z_arr,u_arr)\n",
    "\n",
    "if plot_stdatm:\n",
    "    ax[0].plot(z_ideal, t_ideal-273.15)\n",
    "    ax[0].plot(z_arr, t_arr5-273.15)\n",
    "\n",
    "    #ax[1].plot(z_ideal, tpot_ideal)\n",
    "    \n",
    "    ax[1].plot(z_arr, th_arr4)\n",
    "    ax[1].plot(z_arr, th_arr5)\n",
    "\n",
    "    ax[2].plot(z_arr, p_arr5/100)\n",
    "    ax[2].plot(z_ideal, p_ideal)\n",
    "    \n",
    "    ax[4].plot(z_ideal, N_ideal)\n",
    "    ax[4].plot(z_arr[:-1], N_arr5)\n",
    "\n",
    "    \n",
    "    ax[0].set_xlim(0,z_arr[-1])\n",
    "    ax[1].set_xlim(0,z_arr[-1])\n",
    "    ax[2].set_xlim(0,z_arr[-1])\n",
    "    ax[3].set_xlim(0,z_arr[-1])\n",
    "    ax[4].set_xlim(0,z_arr[-1])\n",
    "    ax[5].set_xlim(0,z_arr[-1])\n",
    "    ax[1].set_ylim(0,1500)\n",
    "\n",
    "\n",
    "ax[0].set_title('T')\n",
    "ax[1].set_title('$\\Theta$')\n",
    "ax[2].set_title('p (hPa)')\n",
    "ax[3].set_title('$q_v$ (g/kg)')\n",
    "ax[4].set_title('$N$ (s**-1)')\n",
    "ax[5].set_title('$U$ (m s**-1)')\n",
    "\n",
    "ax[4].set_ylim(0,0.04)\n",
    "\n",
    "plt.tight_layout()\n",
    "\n",
    "if len(z_arr[p_arr<0]) > 0:\n",
    "    print('WARNING: PRESSURE NEGATIVE AT '+str(z_arr[p_arr<0]))\n",
    "\n",
    "# write the sounding to file\n",
    "outfile='input_sounding_{:n}_{:n}_{:2.4f}_{:2.2f}'.format(Tb,ws,np.mean(N_arr),rh/100.)\n",
    "\n",
    "'''\n",
    "fh = open(outfile,'w')\n",
    "fh.write('{:10.2f}{:12.2f}{:12.2e}\\n'.format(p_arr[0]/100,Tb,qv))\n",
    "for n in range(Nz):\n",
    "    fh.write('{:10.2f}{:12.2f}{:12.2e}{:12.2f}{:12.2f}\\n'.format(z_arr[n],th_arr[n],qv_arr[n],u_arr[n],v_arr[n]))\n",
    "print('wrote '+outfile)\n",
    "'''\n",
    "print('')"
   ]
  },
  {
   "cell_type": "code",
   "execution_count": null,
   "metadata": {},
   "outputs": [],
   "source": [
    "import sys as sys\n",
    "np.set_printoptions(threshold=sys.maxsize)\n",
    "np.save('../fieldcompare/standard_pressure_0-2000m',p_arr[0:2000])\n",
    "print(p_arr[0:2000])"
   ]
  },
  {
   "cell_type": "code",
   "execution_count": 77,
   "metadata": {},
   "outputs": [
    {
     "data": {
      "text/plain": [
       "<matplotlib.legend.Legend at 0x7f166d512cc0>"
      ]
     },
     "execution_count": 77,
     "metadata": {},
     "output_type": "execute_result"
    },
    {
     "data": {
      "image/png": "[encoded data removed]",
      "text/plain": [
       "<Figure size 432x288 with 1 Axes>"
      ]
     },
     "metadata": {},
     "output_type": "display_data"
    }
   ],
   "source": [
    "plt.plot(z_arr,th_arr2,label='theta from 0.003K / m lapse rate')\n",
    "plt.plot(z_arr,th_arr,label='theta from constant N²')\n",
    "plt.plot(z_arr,th_arr4,label='theta from constant N²')\n",
    "plt.xlabel('z (m)')\n",
    "plt.ylabel('$\\Theta$ (K)')\n",
    "plt.legend()"
   ]
  },
  {
   "cell_type": "markdown",
   "metadata": {},
   "source": [
    "# wrf sounding to icar input file\n",
    "forcing resolution = icar resolution"
   ]
  },
  {
   "cell_type": "code",
   "execution_count": 7,
   "metadata": {},
   "outputs": [],
   "source": [
    "def get_topo(x,topo='witch',a0=1000,a1=20000):\n",
    "    if topo == 'witch':\n",
    "        h=a0*(a1**2/(x**2+a1**2))\t\t\t\t# topography\n",
    "    elif topo == 'triangle':\n",
    "        if np.abs(x) <= a1/2.0:\n",
    "                k = np.sign(x)\n",
    "                h = -np.sign(x)*x*2.0*(a0/a1)+a0\n",
    "        else:\n",
    "            h = 0.0\n",
    "    elif topo==\"sine\":\n",
    "        h=a0/2.0+a0/2.0*np.sin((np.pi/a1)*(x-a1/2.0))\t\t# sine with the minimum at domain center\n",
    "    return h"
   ]
  },
  {
   "cell_type": "code",
   "execution_count": 8,
   "metadata": {},
   "outputs": [],
   "source": [
    "# set basic characteristics\n",
    "nrz    = 10    # vertically use only every nrz-th entry from above arrays (to preserve space) for LR forcing\n",
    "nrx    = 10    # horizontally only use every nrx-th entry for LR forcing\n",
    "\n",
    "# choose nx and ny large enough so that n < 2*smthwindow+1 where smoothing window is the number of cells\n",
    "# icar smooths the wind field over\n",
    "nx     = 404   # use even numbers for now! x extension of HR domain \n",
    "ny     = 104    # use even numbers for now! y extension of HR domain\n",
    "dx     = 2000  # HR forcing dx => LR forcing dx is therefore nrx*dx\n",
    "\n",
    "a0     = 1000  # height of the witch of agnesi ridge\n",
    "a1     = 20000 # half width at half of maximum\n",
    "\n",
    "nx_lr  = int(nx/nrx)\n",
    "if nx_lr%2 == 0:\n",
    "    nx_lr+=1\n",
    "    \n",
    "ny_lr  = int(ny/nrx)\n",
    "if ny_lr%2 == 0:\n",
    "    ny_lr+=1\n",
    "\n",
    "ntime  = 6\n",
    "\n",
    "nz     = len(z_arr)\n",
    "nlvls  = len(z_arr[::nrz])   # LR forcing level number\n",
    "\n",
    "lonc   = 90.\n",
    "latc   = 0.\n",
    "\n",
    "# find HR domain horizontal spacing in degrees by calling haversine until\n",
    "# we find the angle that best approximates the distance\n",
    "test_min=99999.0\n",
    "angle = None\n",
    "\n",
    "for test_llon in np.arange(0.0,0.25,0.000001):\n",
    "    test_result1 = utl.haversine(lonc-test_llon/2.0,latc,lonc+test_llon/2.0,latc)\n",
    "    test_result2 = np.abs(test_result1 - dx)\n",
    "    if  test_result2 < test_min:\n",
    "        test_min = test_result2\n",
    "        angle = test_llon\n",
    "\n",
    "ddeg=angle"
   ]
  },
  {
   "cell_type": "code",
   "execution_count": 9,
   "metadata": {},
   "outputs": [],
   "source": [
    "lons_hr = np.arange(-nx/2,nx/2,1)*ddeg+lonc\n",
    "lats_hr = np.arange(-ny/2,ny/2,1)*ddeg+latc\n",
    "xs_hr   = np.arange(-nx/2,nx/2,1)*dx\n",
    "xx, xy  = np.meshgrid(lons_hr,lats_hr)\n",
    "\n",
    "# calculate LR grid and add a buffer that is ddeg*nrx/2.0 around the HR domain\n",
    "lons_lr = np.linspace(np.min(lons_hr)-ddeg/2.0*nrx,np.max(lons_hr)+ddeg/2.0*nrx,nx_lr)\n",
    "lats_lr = np.linspace(np.min(lats_hr)-ddeg/2.0*nrx,np.max(lats_hr)+ddeg/2.0*nrx,ny_lr)\n",
    "xx_lr, xy_lr  = np.meshgrid(lons_lr,lats_lr)"
   ]
  },
  {
   "cell_type": "code",
   "execution_count": 10,
   "metadata": {},
   "outputs": [
    {
     "data": {
      "text/plain": [
       "<matplotlib.collections.PathCollection at 0x7fea2c1fe908>"
      ]
     },
     "execution_count": 10,
     "metadata": {},
     "output_type": "execute_result"
    },
    {
     "data": {
      "image/png": "[encoded data removed]",
      "text/plain": [
       "<Figure size 432x288 with 1 Axes>"
      ]
     },
     "metadata": {
      "needs_background": "light"
     },
     "output_type": "display_data"
    }
   ],
   "source": [
    "plt.scatter(xx,xy,s=1)\n",
    "plt.scatter(xx_lr,xy_lr)"
   ]
  },
  {
   "cell_type": "code",
   "execution_count": 11,
   "metadata": {},
   "outputs": [
    {
     "name": "stdout",
     "output_type": "stream",
     "text": [
      "witch of agnesi ridge with a0=1000 and a1=20000\n"
     ]
    }
   ],
   "source": [
    "print('witch of agnesi ridge with a0={:4.0f} and a1={:5.0f}'.format(a0,a1))\n",
    "# forcing data\n",
    "time   = np.arange(0,ntime,1)\n",
    "qvapor = np.zeros(ntime*nlvls*ny_lr*nx_lr).reshape(ntime,nlvls,ny_lr,nx_lr) # set\n",
    "qcloud = np.zeros(ntime*nlvls*ny_lr*nx_lr).reshape(ntime,nlvls,ny_lr,nx_lr)\n",
    "qice   = np.zeros(ntime*nlvls*ny_lr*nx_lr).reshape(ntime,nlvls,ny_lr,nx_lr)\n",
    "u      = np.zeros(ntime*nlvls*ny_lr*nx_lr).reshape(ntime,nlvls,ny_lr,nx_lr) # set\n",
    "v      = np.zeros(ntime*nlvls*ny_lr*nx_lr).reshape(ntime,nlvls,ny_lr,nx_lr)\n",
    "\n",
    "t      = np.zeros(ntime*nlvls*ny_lr*nx_lr).reshape(ntime,nlvls,ny_lr,nx_lr) # set\n",
    "tsk    = np.zeros(ntime*nlvls*ny_lr*nx_lr).reshape(ntime,nlvls,ny_lr,nx_lr)\n",
    "pb     = np.zeros(ntime*nlvls*ny_lr*nx_lr).reshape(ntime,nlvls,ny_lr,nx_lr)\n",
    "ph     = np.zeros(ntime*nlvls*ny_lr*nx_lr).reshape(ntime,nlvls,ny_lr,nx_lr) # set\n",
    "p      = np.zeros(ntime*nlvls*ny_lr*nx_lr).reshape(ntime,nlvls,ny_lr,nx_lr) # set\n",
    "phb    = np.zeros(ntime*nlvls*ny_lr*nx_lr).reshape(ntime,nlvls,ny_lr,nx_lr)\n",
    "\n",
    "sp     = np.zeros(ntime*ny_lr*nx_lr).reshape(ntime,ny_lr,nx_lr) # set\n",
    "\n",
    "xlong  = np.zeros(ntime*ny_lr*nx_lr).reshape(ntime,ny_lr,nx_lr) # set\n",
    "xlat   = np.zeros(ntime*ny_lr*nx_lr).reshape(ntime,ny_lr,nx_lr) # set\n",
    "hgt    = np.zeros(ntime*ny_lr*nx_lr).reshape(ntime,ny_lr,nx_lr) # should be zero for background\n",
    "\n",
    "# HR data\n",
    "xlong_m  = np.zeros(ny*nx).reshape(ny,nx) # set\n",
    "xlat_m   = np.zeros(ny*nx).reshape(ny,nx) # set\n",
    "hgt_m    = np.zeros(ny*nx).reshape(ny,nx) # set\n",
    "landmask = np.zeros(ny*nx).reshape(ny,nx)\n",
    "\n",
    "xlong_m = xx\n",
    "xlat_m  = xy\n",
    "\n",
    "# generate HR topography\n",
    "for k in range(nx):\n",
    "    #hgt_m[:,k] = get_topo(x=xs_hr[k],a0=1000.,a1=20000.,topo='witch')\n",
    "    hgt_m[:,k] = get_topo(x=xs_hr[k],a0=a0,a1=a1,topo='witch')"
   ]
  },
  {
   "cell_type": "markdown",
   "metadata": {},
   "source": [
    "# standard assignment - does not include p' from calinsol output"
   ]
  },
  {
   "cell_type": "code",
   "execution_count": 12,
   "metadata": {},
   "outputs": [],
   "source": [
    "for i in range(ntime):\n",
    "    sp[i,:,:] = p_arr[0]\n",
    "    xlong[i,:,:] = xx_lr\n",
    "    xlat[i,:,:] = xy_lr\n",
    "    for k in range(nx_lr):\n",
    "        for j in range(ny_lr):\n",
    "            qvapor[i,:,j,k]   = qv_arr[::nrz]/1000.\n",
    "            u[i,:,j,k]        = u_arr[::nrz]\n",
    "            t[i,:,j,k]        = th_arr[::nrz]\n",
    "            ph[i,:,j,k]       = z_arr[::nrz]\n",
    "            p[i,:,j,k]        = p_arr[::nrz]"
   ]
  },
  {
   "cell_type": "markdown",
   "metadata": {},
   "source": [
    "# run this if p' should be incorporated to ICAR p-field (from calinsol)"
   ]
  },
  {
   "cell_type": "code",
   "execution_count": 14,
   "metadata": {},
   "outputs": [],
   "source": [
    "# load a calinsol file to use as a workaround for ICARs lack of pressure perturbation calculation\n",
    "\n",
    "# NOTE: dx spacing needs to be the same as the one defined below\n",
    "#       dz spacing should be equal to the soundings spacing\n",
    "\n",
    "#cis_ds = xa.open_dataset('./input_data/calinsol_270_20_0.0100_1.00_dx2000_dz=50.nc')\n",
    "cis_ds = xa.open_dataset('./input_data/calinsol_270_20_0.0100_1.00_dx2000_dz=50.nc')\n",
    "ciscs_ds = cis_ds.sel(south_north=50)\n"
   ]
  },
  {
   "cell_type": "code",
   "execution_count": 15,
   "metadata": {},
   "outputs": [
    {
     "name": "stdout",
     "output_type": "stream",
     "text": [
      "offset between topography maxima: 202 - 202 = 0\n",
      "WARNING: TOPOGRAPHIES POTENTIALLY DIFFERENT? Delta = -29438.952673\n"
     ]
    }
   ],
   "source": [
    "Nx_ciscs = len(ciscs_ds.west_east)\n",
    "\n",
    "# calculate offset of calinsol fields to hr fields\n",
    "# the following assumes that hgt_m has more horizontal entries than ciscs_ds.topo\n",
    "nxmax_h_hr  = np.where(hgt_m[0,:] == np.amax(hgt_m[0,:]))[0][0]\n",
    "nxmax_h_cis = np.where(ciscs_ds.topo == np.amax(ciscs_ds.topo))[0][0]\n",
    "dnmax_h = nxmax_h_hr-nxmax_h_cis\n",
    "print('offset between topography maxima: {:n} - {:n} = {:n}'.format(nxmax_h_hr,nxmax_h_cis,nxmax_h_hr-nxmax_h_cis))\n",
    "delta_topos = np.sum(hgt_m[0,dnmax_h:-dnmax_h+1]-ciscs_ds.topo.values)\n",
    "\n",
    "if delta_topos != 0:\n",
    "    print('WARNING: TOPOGRAPHIES POTENTIALLY DIFFERENT? Delta = {:f}'.format(delta_topos))\n",
    "else:\n",
    "    print('topographies seem to overlap, Delta = 0, all good')"
   ]
  },
  {
   "cell_type": "code",
   "execution_count": 16,
   "metadata": {},
   "outputs": [
    {
     "data": {
      "text/plain": [
       "[<matplotlib.lines.Line2D at 0x7fea2c36aac8>]"
      ]
     },
     "execution_count": 16,
     "metadata": {},
     "output_type": "execute_result"
    },
    {
     "data": {
      "image/png": "[encoded data removed]",
      "text/plain": [
       "<Figure size 432x288 with 1 Axes>"
      ]
     },
     "metadata": {
      "needs_background": "light"
     },
     "output_type": "display_data"
    }
   ],
   "source": [
    "plt.plot(hgt_m[0,:])\n",
    "plt.plot(ciscs_ds.topo.values)"
   ]
  },
  {
   "cell_type": "code",
   "execution_count": 17,
   "metadata": {},
   "outputs": [],
   "source": [
    "pp_lr  = np.zeros(ny_lr*nx_lr*nlvls).reshape(nlvls,ny_lr,nx_lr) # set\n",
    "dk_offset = int(dnmax_h/nrx)\n",
    "for i in range(ny_lr):\n",
    "    for k in range(dk_offset,nx_lr):\n",
    "        kcis = (k-dk_offset)*nrx\n",
    "        #print(kcis,' ',k,' ',nrx,' ',dnmax_h)\n",
    "        if kcis >= Nx_ciscs:\n",
    "            kcis = Nx_ciscs-1\n",
    "        if kcis <= 0:\n",
    "            kcis = 0\n",
    "        pp_cis = np.interp(z_arr[::nrz],ciscs_ds.z[:,kcis],ciscs_ds.p[:,kcis])\n",
    "        pp_lr[:,i,k] = pp_cis\n",
    "        #if k == 20:\n",
    "        #    break\n",
    "    #if k == 20:\n",
    "    #    break"
   ]
  },
  {
   "cell_type": "code",
   "execution_count": 18,
   "metadata": {},
   "outputs": [
    {
     "data": {
      "image/png": "[encoded data removed]",
      "text/plain": [
       "<Figure size 600x300 with 2 Axes>"
      ]
     },
     "metadata": {
      "needs_background": "light"
     },
     "output_type": "display_data"
    }
   ],
   "source": [
    "f,axarr = plt.subplots(1,2,figsize=(6,3),dpi=100)\n",
    "axarr[0].pcolormesh(pp_lr[:,0,:])\n",
    "axarr[1].pcolormesh(ciscs_ds.p)\n",
    "plt.tight_layout()"
   ]
  },
  {
   "cell_type": "code",
   "execution_count": 19,
   "metadata": {},
   "outputs": [],
   "source": [
    "pp_lr_extracted = np.zeros(len(hgt_m[0,::nrz]))\n",
    "for nh,h in enumerate(hgt_m[0,::nrz]):\n",
    "    zpos = np.abs(ph[0,:,0,nh]-h).argmin()\n",
    "    #print(h,' ',nh,' ',zpos)\n",
    "    pp_lr_extracted[nh] = pp_lr[zpos,0,nh]"
   ]
  },
  {
   "cell_type": "code",
   "execution_count": 20,
   "metadata": {},
   "outputs": [
    {
     "data": {
      "text/plain": [
       "[<matplotlib.lines.Line2D at 0x7fea26307400>]"
      ]
     },
     "execution_count": 20,
     "metadata": {},
     "output_type": "execute_result"
    },
    {
     "data": {
      "image/png": "[encoded data removed]",
      "text/plain": [
       "<Figure size 432x288 with 1 Axes>"
      ]
     },
     "metadata": {
      "needs_background": "light"
     },
     "output_type": "display_data"
    }
   ],
   "source": [
    "plt.plot(pp_lr_extracted)\n",
    "plt.plot(pp_lr[0,0,:])"
   ]
  },
  {
   "cell_type": "code",
   "execution_count": 21,
   "metadata": {},
   "outputs": [],
   "source": [
    "for i in range(ntime):\n",
    "    for k in range(nx_lr):\n",
    "        for j in range(ny_lr):\n",
    "            sp[i,j,:] = p_arr[0] + pp_lr[0,j,:]\n",
    "p[:]+=pp_lr"
   ]
  },
  {
   "cell_type": "markdown",
   "metadata": {},
   "source": [
    "# next step - export files"
   ]
  },
  {
   "cell_type": "code",
   "execution_count": 22,
   "metadata": {},
   "outputs": [],
   "source": [
    "icar_sounding_ds\t= xa.Dataset(\n",
    "                        data_vars={\n",
    "                            'HGT':(['Time','south_north','west_east'],hgt),\n",
    "                            'XLONG':(['Time','south_north','west_east'],xlong),\n",
    "                            'XLAT':(['Time','south_north','west_east'],xlat),\n",
    "                            'P':(['Time','bottom_top','south_north','west_east'],p),\n",
    "                            'T':(['Time','bottom_top','south_north','west_east'],t),\n",
    "                            'PH':(['Time','bottom_top','south_north','west_east'],ph),\n",
    "                            'U':(['Time','bottom_top','south_north','west_east'],u),\n",
    "                            'V':(['Time','bottom_top','south_north','west_east'],v),\n",
    "                            'sp':(['Time','south_north','west_east'],sp),\n",
    "                            'PB':(['Time','bottom_top','south_north','west_east'],pb),\n",
    "                            'PHB':(['Time','bottom_top','south_north','west_east'],phb),\n",
    "                            'QVAPOR':(['Time','bottom_top','south_north','west_east'],qvapor),\n",
    "                            'QCLOUD':(['Time','bottom_top','south_north','west_east'],qcloud),\n",
    "                            'QICE':(['Time','bottom_top','south_north','west_east'],qice),\n",
    "                            'TSK':(['Time','bottom_top','south_north','west_east'],tsk)\n",
    "                        },\n",
    "                        coords={\n",
    "                            'Time':time,\n",
    "                            'bottom_top':np.arange(0,nlvls,1.0),\n",
    "                            'south_north':np.arange(0,ny_lr,1.0),\n",
    "                            'west_east':np.arange(0,nx_lr,1.0)\n",
    "                        }\n",
    "                    )\n",
    "\n",
    "icar_hr_ds\t= xa.Dataset(\n",
    "                        data_vars={\n",
    "                            'HGT_M':(['south_north','west_east'],hgt_m),\n",
    "                            'XLONG_M':(['south_north','west_east'],xlong_m),\n",
    "                            'XLAT_M':(['south_north','west_east'],xlat_m),\n",
    "                            'LANDMASK':(['south_north','west_east'],landmask)\n",
    "                        },\n",
    "                        coords={\n",
    "                            'Time':time,\n",
    "                            'bottom_top':np.arange(0,nlvls,1.0),\n",
    "                            'south_north':np.arange(0,ny,1.0),\n",
    "                            'west_east':np.arange(0,nx,1.0)\n",
    "                        }\n",
    "                    )"
   ]
  },
  {
   "cell_type": "code",
   "execution_count": 23,
   "metadata": {},
   "outputs": [],
   "source": [
    "icar_sounding_ds.to_netcdf('./icar_sounding_pdash_{:s}.nc'.format(outfile.replace('input_sounding','')),format='NETCDF4')\n",
    "icar_hr_ds.to_netcdf('./icar_hr_a0_{:2.0f}_a1_{:2.0f}{:s}.nc'.format(a0,a1,outfile.replace('input_sounding','')),format='NETCDF4')"
   ]
  },
  {
   "cell_type": "code",
   "execution_count": null,
   "metadata": {},
   "outputs": [],
   "source": [
    "icar_hr_ds.XLONG_M"
   ]
  },
  {
   "cell_type": "markdown",
   "metadata": {},
   "source": [
    "# Read a WRF sounding"
   ]
  },
  {
   "cell_type": "code",
   "execution_count": null,
   "metadata": {},
   "outputs": [],
   "source": [
    "snd_arrs = [\n",
    "    np.genfromtxt('../cloud_plots/data/external/wrf_out/ethan/dry/input_sounding',skip_header=1),\n",
    "    #np.genfromtxt('../cloud_plots/data/external/wrf_out/wethans_settings/a0_1000/a1_20000/280_10_0.0095/input_sounding',skip_header=1)\n",
    "    #np.genfromtxt('./input_sounding_280_10_0.0095_6.7',skip_header=1)\n",
    "]\n",
    "\n",
    "\n",
    "f, ax = plt.subplots(1,6,figsize=(12,6))\n",
    "\n",
    "for snd_arr in snd_arrs:\n",
    "\n",
    "    z_arr = snd_arr[:,0]\n",
    "    th_arr = snd_arr[:,1]\n",
    "    qv_arr = snd_arr[:,2]\n",
    "    u_arr = snd_arr[:,3]\n",
    "    v_arr = snd_arr[:,4]\n",
    "    Nsnd = snd_arr.shape[0]\n",
    "    p_arr = np.zeros(Nsnd)\n",
    "    t_arr = np.zeros(Nsnd)\n",
    "\n",
    "    N_arr = np.zeros(snd_arr.shape[0]-1)\n",
    "    for n in range(0,snd_arr.shape[0]-1):\n",
    "        N_arr[n] = np.sqrt(9.81*(np.log(th_arr[n+1])-np.log(th_arr[n]))/(z_arr[n+1]-z_arr[n]))\n",
    "\n",
    "    p_arr = p_from_th(p0=100000,th_arr=th_arr,z_arr=z_arr)\n",
    "    t_arr = t_from_tpot(p=p_arr,tpot=th_arr)\n",
    "\n",
    "    ax[0].plot(z_arr, t_arr-273.15)\n",
    "    ax[1].plot(z_arr, th_arr)\n",
    "    ax[2].plot(z_arr, p_arr/1000)\n",
    "    ax[3].plot(z_arr, qv_arr)\n",
    "    ax[4].plot(z_arr[:-1], N_arr)\n",
    "    ax[5].plot(z_arr, u_arr)\n",
    "\n",
    "    ax[0].set_title('T')\n",
    "    ax[1].set_title('$\\Theta$')\n",
    "    ax[2].set_title('p (hPa)')\n",
    "    ax[3].set_title('$q_v$ (kg/kg)')\n",
    "    ax[4].set_title('$N$ (s**-1)')\n",
    "    ax[5].set_title('u (m**s-1)')\n",
    "    \n",
    "\n",
    "\n",
    "    ax[4].set_ylim(0,0.04)\n",
    "\n",
    "plt.tight_layout()"
   ]
  },
  {
   "cell_type": "markdown",
   "metadata": {},
   "source": [
    "## read a wrfinput_d01 file and modify it"
   ]
  },
  {
   "cell_type": "code",
   "execution_count": null,
   "metadata": {},
   "outputs": [],
   "source": [
    "# look up byte datetime needed for wrfinput in a pregenerated table.\n",
    "# I just don't know yet how to best automate this byte generation and have no time\n",
    "\n",
    "byteTimesteps=[\n",
    "    b'0001-01-01_00:00:00',\n",
    "    b'0001-01-01_01:00:00',\n",
    "    b'0001-01-01_02:00:00',\n",
    "    b'0001-01-01_03:00:00',\n",
    "    b'0001-01-01_04:00:00',\n",
    "    b'0001-01-01_05:00:00',\n",
    "    b'0001-01-01_06:00:00',\n",
    "    b'0001-01-01_07:00:00',\n",
    "    b'0001-01-01_08:00:00',\n",
    "    b'0001-01-01_09:00:00',\n",
    "    b'0001-01-01_10:00:00',\n",
    "    b'0001-01-01_11:00:00',\n",
    "    b'0001-01-01_12:00:00',\n",
    "    b'0001-01-01_13:00:00',\n",
    "    b'0001-01-01_14:00:00',\n",
    "    b'0001-01-01_15:00:00',\n",
    "    b'0001-01-01_16:00:00',\n",
    "    b'0001-01-01_17:00:00',\n",
    "    b'0001-01-01_18:00:00',\n",
    "    b'0001-01-01_19:00:00',\n",
    "    b'0001-01-01_20:00:00',\n",
    "    b'0001-01-01_21:00:00',\n",
    "    b'0001-01-01_22:00:00',\n",
    "    b'0001-01-01_23:00:00',\n",
    "    b'0001-01-02_00:00:00',\n",
    "    b'0001-01-02_01:00:00',\n",
    "    b'0001-01-02_02:00:00',\n",
    "    b'0001-01-02_03:00:00',\n",
    "    b'0001-01-02_04:00:00',\n",
    "    b'0001-01-02_05:00:00',\n",
    "    b'0001-01-02_06:00:00',\n",
    "    b'0001-01-02_07:00:00',\n",
    "    b'0001-01-02_08:00:00',\n",
    "    b'0001-01-02_09:00:00',\n",
    "    b'0001-01-02_10:00:00',\n",
    "    b'0001-01-02_11:00:00',\n",
    "    b'0001-01-02_12:00:00',\n",
    "    b'0001-01-02_13:00:00',\n",
    "    b'0001-01-02_14:00:00',    \n",
    "]"
   ]
  },
  {
   "cell_type": "code",
   "execution_count": null,
   "metadata": {},
   "outputs": [],
   "source": [
    "NTnew = 37\n",
    "\n",
    "wrfin_ds = xa.open_dataset('../cloud_plots/data/external/icar_vs_wrf/wet/WRF/dc.1_25000._20000._270_20_0.0097_1.00_mp8_WRF3.4/wrfinput_d01')\n",
    "wrfinNew_ds = xa.Dataset()\n",
    "nVar = 0\n",
    "for var in wrfin_ds.data_vars:\n",
    "    if wrfin_ds[var].dims[0]=='Time' and var != 'Times':\n",
    "        shape = wrfin_ds[var].shape\n",
    "        dims  = wrfin_ds[var].dims\n",
    "        Nshape = len(shape)\n",
    "        coordDict = {}\n",
    "        \n",
    "        \n",
    "        newShape    = [0]*Nshape     # new shape - list of length Nshape with integers\n",
    "        newShape[0] = NTnew\n",
    "        \n",
    "        Ntot = NTnew\n",
    "        \n",
    "        for ndim in range(1,Nshape):\n",
    "            newShape[ndim]  = shape[ndim]\n",
    "            Ntot           *= shape[ndim]\n",
    "            coordDict[dims[ndim]] = wrfin_ds[dims[ndim]].values\n",
    "            \n",
    "        newShape    = tuple(newShape)\n",
    "\n",
    "        print('{:10s} {:20s} {:20s}'.format(var,str(shape),str(newShape)))\n",
    "                \n",
    "        newVar = np.zeros(Ntot)\n",
    "        \n",
    "        if Nshape > 1:\n",
    "            newVar = newVar.reshape(newShape)\n",
    "            \n",
    "        if var != 'Times':\n",
    "            for n in range(NTnew):   # set variable at timestep n to it's value at timestep zero\n",
    "                if Nshape > 1:       # here we assign values for multidimensional variables\n",
    "                    if var != 'QVAPOR':\n",
    "                        newVar[n,:] = wrfin_ds[var][0]\n",
    "                    else:\n",
    "                        if n > 6:\n",
    "                            newVar[n,:] = wrfin_ds[var][0]\n",
    "                        else:\n",
    "                            print('  setting QVAPOR to zero at t={:n}'.format(n))\n",
    "\n",
    "                else:                # and here for vars with only one dimension\n",
    "                    newVar[n] = wrfin_ds[var][0]\n",
    "                    \n",
    "            wrfadd_ds = xa.Dataset(\n",
    "                        data_vars = {var:(dims,newVar)},\n",
    "                        coords    = coordDict\n",
    "                        )\n",
    "            wrfinNew_ds = xa.merge(\n",
    "                [wrfinNew_ds,wrfadd_ds],\n",
    "                join='outer'\n",
    "            )\n",
    "            wrfinNew_ds[var].attrs = wrfin_ds[var].attrs\n",
    "\n",
    "        nVar+=1\n",
    "    elif wrfin_ds[var].dims[0]!='Time':       # here we just merge the non time dependent variables\n",
    "        wrfinNew_ds = xa.merge(\n",
    "            [wrfinNew_ds,wrfin_ds[var]],\n",
    "            join='outer'\n",
    "        )\n",
    "        wrfinNew_ds[var].attrs = wrfin_ds[var].attrs\n",
    "        print('{:10s}'.format(var))\n",
    "        \n",
    "        nVar+=1\n"
   ]
  },
  {
   "cell_type": "code",
   "execution_count": null,
   "metadata": {},
   "outputs": [],
   "source": [
    "# Time needs to be a byte array, so we just treat it differently here\n",
    "timeVar = []\n",
    "for n in range(NTnew):\n",
    "    timeVar.append(byteTimesteps[n])\n",
    "\n",
    "wrfinNewTime_ds = xa.Dataset(\n",
    "                    data_vars = {'Times':(['Time'],timeVar)},\n",
    "                  )\n",
    "\n",
    "#wrfinNew_ds = xa.merge([wrfinNew_ds,wrfinNewTime_ds])"
   ]
  },
  {
   "cell_type": "code",
   "execution_count": null,
   "metadata": {},
   "outputs": [],
   "source": [
    "wrfinNew_ds = xa.merge([wrfinNew_ds,wrfinNewTime_ds])\n",
    "\n",
    "# copy the general attributes\n",
    "wrfinNew_ds.attrs = wrfin_ds.attrs   # must be AFTER merging with wrfinNewTime_ds - otherwise attributes vanish"
   ]
  },
  {
   "cell_type": "code",
   "execution_count": null,
   "metadata": {},
   "outputs": [],
   "source": [
    "wrfinNew_ds.to_netcdf('./wrfinput_d01_modified',format='NETCDF3_64BIT')"
   ]
  },
  {
   "cell_type": "markdown",
   "metadata": {},
   "source": [
    "## convert WRF output to an ICAR forcing"
   ]
  },
  {
   "cell_type": "code",
   "execution_count": null,
   "metadata": {},
   "outputs": [],
   "source": [
    "wrfout_ds = wtl.open_wrf('../cloud_plots/data/external/icar_vs_wrf/wet/WRF/dc.1_25000._20000._270_20_0.0097_1.00/')"
   ]
  },
  {
   "cell_type": "code",
   "execution_count": null,
   "metadata": {},
   "outputs": [],
   "source": [
    "wrfoutd_ds = wtl.destagger_wrf(wrfout_ds)"
   ]
  },
  {
   "cell_type": "code",
   "execution_count": null,
   "metadata": {},
   "outputs": [],
   "source": [
    "# set basic characteristics\n",
    "nrz    = 1    # needs to be 1 here\n",
    "nrx    = 1    # needs to be 1 here\n",
    "\n",
    "# choose nx and ny large enough so that n < 2*smthwindow+1 where smoothing window is the number of cells\n",
    "# icar smooths the wind field over\n",
    "nx     = len(wrfoutd_ds.west_east)   # use even numbers for now! x extension of HR domain \n",
    "ny     = 104    # use even numbers for now! y extension of HR domain\n",
    "dx     = 2000   # HR forcing dx => LR forcing dx is therefore nrx*dx\n",
    "\n",
    "nywrf  = 1      # y slice of WRF used to set all y slices of ICAR forcing\n",
    "ntwrf  = 6      # timestep in WRF that is to be used as initial state of ICAR\n",
    "\n",
    "nx_lr  = int(nx/nrx)\n",
    "ny_lr  = int(ny/nrx)\n",
    "\n",
    "ntime  = 6\n",
    "\n",
    "nlvls  = len(wrfoutd_ds.bottom_top)   # LR forcing level number\n",
    "\n",
    "lonc   = 90.\n",
    "latc   = 0.\n",
    "\n",
    "# find HR domain horizontal spacing in degrees by calling haversine until\n",
    "# we find the angle that best approximates the distance\n",
    "test_min=99999.0\n",
    "angle = None\n",
    "\n",
    "for test_llon in np.arange(0.0,0.25,0.000001):\n",
    "    test_result1 = utl.haversine(lonc-test_llon/2.0,latc,lonc+test_llon/2.0,latc)\n",
    "    test_result2 = np.abs(test_result1 - dx)\n",
    "    if  test_result2 < test_min:\n",
    "        test_min = test_result2\n",
    "        angle = test_llon\n",
    "\n",
    "ddeg=angle"
   ]
  },
  {
   "cell_type": "code",
   "execution_count": null,
   "metadata": {},
   "outputs": [],
   "source": [
    "lons_hr = np.arange(-nx/2,nx/2,1)*ddeg+lonc\n",
    "lats_hr = np.arange(-ny/2,ny/2,1)*ddeg+latc\n",
    "xs_hr   = np.arange(-nx/2,nx/2,1)*dx\n",
    "xx, xy  = np.meshgrid(lons_hr,lats_hr)\n",
    "\n",
    "# calculate LR grid and add a buffer that is ddeg*nrx/2.0 around the HR domain\n",
    "lons_lr = np.linspace(np.min(lons_hr)-ddeg/2.0*nrx,np.max(lons_hr)+ddeg/2.0*nrx,nx_lr)\n",
    "lats_lr = np.linspace(np.min(lats_hr)-ddeg/2.0*nrx,np.max(lats_hr)+ddeg/2.0*nrx,ny_lr)\n",
    "xx_lr, xy_lr  = np.meshgrid(lons_lr,lats_lr)"
   ]
  },
  {
   "cell_type": "code",
   "execution_count": null,
   "metadata": {},
   "outputs": [],
   "source": [
    "# set parameters needed for the background state. basically we need only the microphysics fields from WRF\n",
    "# WRF output should be from a WRF run with a sounding like this.\n",
    "\n",
    "N     = 0.01\n",
    "ws    = 20.0\n",
    "Tb    = 270\n",
    "p0    = 101325  #hPa surface pressure\n",
    "zmax  = 30000\n",
    "dz    = 50.0\n",
    "rh    = 100.\n",
    "rhtop = 30000\n",
    "\n",
    "# use z spacings from leftmost gridpoint in wrfoutput \n",
    "z_arr  = wrfoutd_ds.Z[0,:,nywrf,0].values\n",
    "\n",
    "Nz     = len(z_arr)\n",
    "\n",
    "# we can only use this th array at the domain boundaries\n",
    "# everywhere else we have to calculate based on the local elevations\n",
    "th_arr = tpot_from_dth(Tb,0.3,z_arr,dThPer100m=True)  # 0.3/100m <=> N=0.01 s**-1\n",
    "\n",
    "qv_arr = z_arr*0\n",
    "u_arr  = np.ones(Nz)*ws\n",
    "p_arr  = np.zeros(Nz)\n",
    "p_arr  = p_from_th(p0=p0,z_arr=z_arr,th_arr=th_arr)\n",
    "N_arr  = np.zeros(Nz-1)\n",
    "\n",
    "for n, z in enumerate(z_arr):\n",
    "    if n < len(z_arr)-1:\n",
    "        N_arr[n]  = np.sqrt(9.81*(np.log(th_arr[n+1])-np.log(th_arr[n]))/(z_arr[n+1]-z_arr[n]))\n",
    "t_arr    = t_from_tpot(th_arr,p_arr)\n",
    "psat_arr = calculate_saturation_pressures(t_arr-273.15)\n",
    "qv_arr   = calculate_qv_from_rh(rh,psat_arr,p_arr)\n",
    "qv_arr[np.isinf(qv_arr)]=0.0 # remove potential infinities\n"
   ]
  },
  {
   "cell_type": "code",
   "execution_count": null,
   "metadata": {},
   "outputs": [],
   "source": [
    "# forcing data\n",
    "time   = np.arange(0,ntime,1)\n",
    "qvapor = np.zeros(ntime*nlvls*ny_lr*nx_lr).reshape(ntime,nlvls,ny_lr,nx_lr) # set\n",
    "qcloud = np.zeros(ntime*nlvls*ny_lr*nx_lr).reshape(ntime,nlvls,ny_lr,nx_lr) # set\n",
    "qice   = np.zeros(ntime*nlvls*ny_lr*nx_lr).reshape(ntime,nlvls,ny_lr,nx_lr) # set\n",
    "\n",
    "qrain = np.zeros(ntime*nlvls*ny_lr*nx_lr).reshape(ntime,nlvls,ny_lr,nx_lr) # set\n",
    "qsnow = np.zeros(ntime*nlvls*ny_lr*nx_lr).reshape(ntime,nlvls,ny_lr,nx_lr) # set\n",
    "qgrau = np.zeros(ntime*nlvls*ny_lr*nx_lr).reshape(ntime,nlvls,ny_lr,nx_lr) # set\n",
    "nice  = np.zeros(ntime*nlvls*ny_lr*nx_lr).reshape(ntime,nlvls,ny_lr,nx_lr) # set\n",
    "nrain = np.zeros(ntime*nlvls*ny_lr*nx_lr).reshape(ntime,nlvls,ny_lr,nx_lr) # set\n",
    "\n",
    "u      = np.zeros(ntime*nlvls*ny_lr*nx_lr).reshape(ntime,nlvls,ny_lr,nx_lr) # set\n",
    "v      = np.zeros(ntime*nlvls*ny_lr*nx_lr).reshape(ntime,nlvls,ny_lr,nx_lr) # no set\n",
    "\n",
    "t      = np.zeros(ntime*nlvls*ny_lr*nx_lr).reshape(ntime,nlvls,ny_lr,nx_lr) # set\n",
    "tsk    = np.zeros(ntime*nlvls*ny_lr*nx_lr).reshape(ntime,nlvls,ny_lr,nx_lr) # no set\n",
    "pb     = np.zeros(ntime*nlvls*ny_lr*nx_lr).reshape(ntime,nlvls,ny_lr,nx_lr) # no set\n",
    "ph     = np.zeros(ntime*nlvls*ny_lr*nx_lr).reshape(ntime,nlvls,ny_lr,nx_lr) # set\n",
    "p      = np.zeros(ntime*nlvls*ny_lr*nx_lr).reshape(ntime,nlvls,ny_lr,nx_lr) # set\n",
    "phb    = np.zeros(ntime*nlvls*ny_lr*nx_lr).reshape(ntime,nlvls,ny_lr,nx_lr) # no set\n",
    "\n",
    "sp     = np.zeros(ntime*ny_lr*nx_lr).reshape(ntime,ny_lr,nx_lr) # set\n",
    "\n",
    "xlong  = np.zeros(ntime*ny_lr*nx_lr).reshape(ntime,ny_lr,nx_lr) \n",
    "xlat   = np.zeros(ntime*ny_lr*nx_lr).reshape(ntime,ny_lr,nx_lr) \n",
    "hgt    = np.zeros(ntime*ny_lr*nx_lr).reshape(ntime,ny_lr,nx_lr) # should be zero for background\n",
    "\n",
    "# HR data\n",
    "xlong_m  = np.zeros(ny*nx).reshape(ny,nx) \n",
    "xlat_m   = np.zeros(ny*nx).reshape(ny,nx) \n",
    "hgt_m    = np.zeros(ny*nx).reshape(ny,nx) \n",
    "landmask = np.zeros(ny*nx).reshape(ny,nx)\n",
    "\n",
    "xlong_m = xx\n",
    "xlat_m  = xy"
   ]
  },
  {
   "cell_type": "code",
   "execution_count": null,
   "metadata": {},
   "outputs": [],
   "source": [
    "# set the background state. TPOT has to be calculated from the WRF elevations in order to get a linear increase of\n",
    "# TPOT with height that starts at a base temperature of Tb\n",
    "\n",
    "for i in range(ntime):\n",
    "    sp[i,:,:] = p_arr[0]\n",
    "    \n",
    "    for j in range(ny_lr):\n",
    "        ph[i,:,j,:]       = wrfoutd_ds.Z[ntwrf,:,nywrf,:]\n",
    "        for k in range(nx_lr):\n",
    "            u[i,:,j,k]        = u_arr[::nrz]\n",
    "            \n",
    "            #ph[i,:,j,k]       = wrfoutd_ds.Z[ntwrf,:,nywrf,k] #z_arr[::nrz]\n",
    "            t[i,:,j,k]        = tpot_from_dth(Tb,0.3,ph[i,:,j,k],dThPer100m=True) #th_arr[::nrz]\n",
    "\n",
    "            #p[i,:,j,k]        = p_arr[::nrz]\n",
    "        if j%10 == 0:   \n",
    "            utl.mwrite('{:2.1f}% '.format(100.*(j/(ny_lr-1))))\n",
    "utl.mwrite('\\n')"
   ]
  },
  {
   "cell_type": "code",
   "execution_count": null,
   "metadata": {},
   "outputs": [],
   "source": [
    "# set everything at ICAR forcing t=0 to a perdetermined WRF timestep\n",
    "# and set it for all timesteps where possible\n",
    "\n",
    "hgt_m[:,:] = wrfoutd_ds.HGT[ntwrf,nywrf]\n",
    "\n",
    "\n",
    "for j in range(ny_lr):\n",
    "    qvapor[0,:,j] = wrfoutd_ds.QVAPOR[ntwrf,:,nywrf]\n",
    "    qcloud[0,:,j] = wrfoutd_ds.QCLOUD[ntwrf,:,nywrf]\n",
    "    qice[0,:,j]   = wrfoutd_ds.QICE[ntwrf,:,nywrf]\n",
    "    \n",
    "    qrain[0,:,j]  = wrfoutd_ds.QRAIN[ntwrf,:,nywrf]\n",
    "    qsnow[0,:,j]  = wrfoutd_ds.QSNOW[ntwrf,:,nywrf]\n",
    "    qgrau[0,:,j]  = wrfoutd_ds.QGRAUP[ntwrf,:,nywrf]\n",
    "    nice[0,:,j]   = wrfoutd_ds.QNICE[ntwrf,:,nywrf]\n",
    "    nrain[0,:,j]   = wrfoutd_ds.QNRAIN[ntwrf,:,nywrf]\n",
    "    \n",
    "    #u[0,:,j]      = wrfoutd_ds.Uds[ntwrf,:,nywrf]\n",
    "    #t[0,:,j]      = wrfoutd_ds.TH[ntwrf,:,nywrf]\n",
    "    #ph[0,:,j]     = wrfoutd_ds.Z[ntwrf,:,nywrf]\n",
    "    #p[0,:,j]      = wrfoutd_ds.PTOT[ntwrf,:,nywrf]"
   ]
  },
  {
   "cell_type": "code",
   "execution_count": null,
   "metadata": {},
   "outputs": [],
   "source": [
    "\n",
    "for i in range(0,ntime):\n",
    "    xlong[i,:] = xx_lr\n",
    "    xlat[i,:] = xy_lr\n",
    "\n",
    "# set microphysics fields at all later timesteps\n",
    "# all except for qvapor remain at zero here, qvapor is set to whatever WRF has at timestep zero.\n",
    "# this is usually the qv value for RH=100%\n",
    "\n",
    "for i in range(1,ntime):\n",
    "    for j in range(ny_lr):\n",
    "        #for k in range(nx_lr):\n",
    "        qvapor[i,:,j,:] = wrfoutd_ds.QVAPOR[0,:,nywrf,:]#qvapor[i,:,j,k] = qv_arr #\n",
    "        \n",
    "        #u[i,:,j]      = wrfoutd_ds.Uds[ntwrf,:,nywrf]\n",
    "        #t[i,:,j]      = wrfoutd_ds.TH[ntwrf,:,nywrf]\n",
    "        #ph[i,:,j]     = wrfoutd_ds.Z[ntwrf,:,nywrf]\n",
    "        \n",
    "        # use this to initialize t > 0 with the sounding\n",
    "        p[i,:,j]      = wrfoutd_ds.PTOT[0,:,nywrf,:]\n",
    "        t[i,:,j]      = wrfoutd_ds.TH[0,:,nywrf,:]\n",
    "        # p[0,:,j]      = wrfoutd_ds.PTOT[0,:,nywrf,:]\n",
    "        \n",
    "        # this prescribes the P field for ICAR at t = 0 and later\n",
    "        p[0,:,j]      = wrfoutd_ds.PTOT[ntwrf,:,nywrf,:]\n",
    "        #p[i,:,j]      = wrfoutd_ds.PTOT[ntwrf,:,nywrf,:]\n",
    "        \n",
    "        # turn this on to prescribe the TH field for ICAR at t = 0 and later\n",
    "        t[0,:,j]      = wrfoutd_ds.TH[ntwrf,:,nywrf,:]\n",
    "        #t[i,:,j]      = wrfoutd_ds.TH[ntwrf,:,nywrf,:]\n",
    "        \n",
    "        # turn this on to prescribe the WRF windfield for ICAR (and use wind=0 as option)\n",
    "        #u[i,:,j]      = wrfoutd_ds.Uds[ntwrf,:,nywrf,:]\n",
    "        #u[0,:,j]      = wrfoutd_ds.Uds[ntwrf,:,nywrf,:]\n",
    "    utl.mwrite('{:2.1f}% '.format(100.*(i/(ntime-1))))\n",
    "utl.mwrite('\\n')\n",
    "#for k in range(nx):\n",
    "#    hgt_m[:,k] = get_topo(x=xs[k],a0=1000.,a1=20000.,topo='witch')"
   ]
  },
  {
   "cell_type": "code",
   "execution_count": null,
   "metadata": {},
   "outputs": [],
   "source": [
    "icar_sounding_ds\t= xa.Dataset(\n",
    "                        data_vars={\n",
    "                            'HGT':(['Time','south_north','west_east'],hgt),\n",
    "                            'XLONG':(['Time','south_north','west_east'],xlong),\n",
    "                            'XLAT':(['Time','south_north','west_east'],xlat),\n",
    "                            'P':(['Time','bottom_top','south_north','west_east'],p),\n",
    "                            'T':(['Time','bottom_top','south_north','west_east'],t),\n",
    "                            'PH':(['Time','bottom_top','south_north','west_east'],ph),\n",
    "                            'U':(['Time','bottom_top','south_north','west_east'],u),\n",
    "                            'V':(['Time','bottom_top','south_north','west_east'],v),\n",
    "                            'sp':(['Time','south_north','west_east'],sp),\n",
    "                            'PB':(['Time','bottom_top','south_north','west_east'],pb),\n",
    "                            'PHB':(['Time','bottom_top','south_north','west_east'],phb),\n",
    "                            'QVAPOR':(['Time','bottom_top','south_north','west_east'],qvapor),\n",
    "                            'QCLOUD':(['Time','bottom_top','south_north','west_east'],qcloud),\n",
    "                            'QICE':(['Time','bottom_top','south_north','west_east'],qice),\n",
    "\n",
    "                            'QRAIN':(['Time','bottom_top','south_north','west_east'],qrain),\n",
    "                            'QSNOW':(['Time','bottom_top','south_north','west_east'],qsnow),\n",
    "                            'QGRAU':(['Time','bottom_top','south_north','west_east'],qgrau),\n",
    "\n",
    "                            'NICE':(['Time','bottom_top','south_north','west_east'],nice),\n",
    "                            'NRAIN':(['Time','bottom_top','south_north','west_east'],nrain),\n",
    "                            \n",
    "                            'TSK':(['Time','bottom_top','south_north','west_east'],tsk)\n",
    "                        },\n",
    "                        coords={\n",
    "                            'Time':time,\n",
    "                            'bottom_top':np.arange(0,nlvls,1.0),\n",
    "                            'south_north':np.arange(0,ny_lr,1.0),\n",
    "                            'west_east':np.arange(0,nx_lr,1.0)\n",
    "                        }\n",
    "                    )\n",
    "\n",
    "# don't use all data points from forcing - leads to error in ICAR. therefore we skip two points at each boundary\n",
    "\n",
    "icar_hr_ds\t= xa.Dataset(\n",
    "                        data_vars={\n",
    "                            'HGT_M':(['south_north','west_east'],hgt_m[2:-2,2:-2]),\n",
    "                            'XLONG_M':(['south_north','west_east'],xlong_m[2:-2,2:-2]),\n",
    "                            'XLAT_M':(['south_north','west_east'],xlat_m[2:-2,2:-2]),\n",
    "                            'LANDMASK':(['south_north','west_east'],landmask[2:-2,2:-2])\n",
    "                        },\n",
    "                        coords={\n",
    "                            'Time':time,\n",
    "                            'bottom_top':np.arange(0,nlvls,1.0),\n",
    "                            'south_north':np.arange(0,ny,1.0)[0:-4],\n",
    "                            'west_east':np.arange(0,nx,1.0)[0:-4]\n",
    "                        }\n",
    "                    )\n",
    "\n",
    "icar_extwinds\t= xa.Dataset(\n",
    "                        data_vars={\n",
    "                            'HGT_M':(['south_north','west_east'],hgt_m),\n",
    "                            'XLONG':(['south_north','west_east'],xlong_m),\n",
    "                            'XLAT':(['south_north','west_east'],xlat_m),\n",
    "                            'U':(['Time','bottom_top','south_north','west_east'],u),\n",
    "                            'V':(['Time','bottom_top','south_north','west_east'],v),\n",
    "                        },\n",
    "                        coords={\n",
    "                            'Time':time,\n",
    "                            'bottom_top':np.arange(0,nlvls,1.0),\n",
    "                            'south_north':np.arange(0,ny,1.0),\n",
    "                            'west_east':np.arange(0,nx,1.0)\n",
    "                        }\n",
    "                    )"
   ]
  },
  {
   "cell_type": "code",
   "execution_count": null,
   "metadata": {},
   "outputs": [],
   "source": [
    "xlong_dummy = np.linspace(86.42978,86.42978+7.1224594,len(wrfoutd_ds.XLONG[0,1,:]))\n",
    "ts=1\n",
    "f,axarr = plt.subplots(1,2,dpi=200,sharey=True,sharex=True)\n",
    "qw  = 'P'\n",
    "qs  = 'P'\n",
    "\n",
    "vmax=np.nanmax([np.nanmax(icar_sounding_ds[qs][ts,:,52,:].values)])\n",
    "vmin=np.nanmin([np.nanmin(icar_sounding_ds[qs][ts,:,52,:].values)])\n",
    "axarr[0].pcolormesh(icar_sounding_ds['XLONG'][0,52],icar_sounding_ds['PH'][ts,:,52,:],icar_sounding_ds[qs][ts,:,52,:],vmin=vmin,vmax=vmax)\n",
    "axarr[1].pcolormesh(xlong_dummy,wrfoutd_ds.Z[6,:,1,:].values,wrfoutd_ds[qw][6,:,1,:].values,vmin=vmin,vmax=vmax)\n",
    "axarr[0].set_title('icar sounding')\n",
    "axarr[1].set_title('wrfout')\n",
    "#axarr[2].set_title('icar')\n",
    "#axarr[-1].set_ylim(0,6000)\n",
    "axarr[0].set_xlim(89.,91.)\n",
    "plt.tight_layout()"
   ]
  },
  {
   "cell_type": "code",
   "execution_count": null,
   "metadata": {},
   "outputs": [],
   "source": [
    "icar_sounding_ds.to_netcdf('icar_sounding_allmpf_th_p_from_wrf_270_20_0.0097_1.00.nc')"
   ]
  },
  {
   "cell_type": "code",
   "execution_count": null,
   "metadata": {},
   "outputs": [],
   "source": [
    "icar_extwinds.to_netcdf('icar_extwinds_from_wrf_270_20_0.0097_1.00.nc')"
   ]
  },
  {
   "cell_type": "code",
   "execution_count": null,
   "metadata": {},
   "outputs": [],
   "source": [
    "icar_hr_ds.to_netcdf('icar_hr_mpf_from_wrf_270_20_0.0097_1.00.nc')"
   ]
  },
  {
   "cell_type": "code",
   "execution_count": null,
   "metadata": {},
   "outputs": [],
   "source": [
    "plt.scatter(icar_sounding_ds.XLONG,icar_sounding_ds.XLAT,s=1)\n",
    "plt.scatter(icar_hr_ds.XLONG_M,icar_hr_ds.XLAT_M,s=1)"
   ]
  },
  {
   "cell_type": "code",
   "execution_count": null,
   "metadata": {},
   "outputs": [],
   "source": [
    "f,ax = plt.subplots(1,1,dpi=200)\n",
    "pcm = ax.pcolormesh(icar_sounding_ds['XLONG'][0,52],icar_sounding_ds['PH'][0,:,52,:],icar_sounding_ds['P'][0,:,52,:])\n",
    "plt.colorbar(pcm)"
   ]
  },
  {
   "cell_type": "code",
   "execution_count": null,
   "metadata": {},
   "outputs": [],
   "source": []
  },
  {
   "cell_type": "code",
   "execution_count": null,
   "metadata": {},
   "outputs": [],
   "source": [
    "ids = xa.open_dataset('../cloud_plots/data/external/icar_vs_wrf/wet/ICAR/rh100_full_a01000m_a120000_ws20_N0.01_Tb270.0_witch_5c1vn1allmpf/witch_5c1vn1allmpf_nz43/icar_out_cs.nc')\n",
    "#icar_sounding_ds = xa.open_dataset('./icar_sounding_allmpf_from_wrf_270_20_0.0097_1.00_correctz.nc')"
   ]
  },
  {
   "cell_type": "code",
   "execution_count": null,
   "metadata": {},
   "outputs": [],
   "source": [
    "plt.pcolormesh(ids['lon'],ids['z'],ids['qc'][0,:])\n",
    "plt.ylim(0,8000)"
   ]
  },
  {
   "cell_type": "code",
   "execution_count": null,
   "metadata": {},
   "outputs": [],
   "source": [
    "xlong_dummy = np.linspace(86.42978,86.42978+7.1224594,len(wrfoutd_ds.XLONG[0,1,:]))\n",
    "\n",
    "f,axarr = plt.subplots(1,3,dpi=200,sharey=True,sharex=True)\n",
    "ts = 0\n",
    "qw  = 'TH'\n",
    "qs  = 'T'\n",
    "qi  = 'th'\n",
    "\n",
    "vmax=np.nanmax([np.nanmax(icar_sounding_ds[qs][ts,:,52,:].values),np.nanmax(wrfoutd_ds[qw][6,:,1,:].values),np.nanmax(ids[qi][0,:])])\n",
    "axarr[0].pcolormesh(icar_sounding_ds['XLONG'][0,52],icar_sounding_ds['PH'][ts,:,52,:],icar_sounding_ds[qs][ts,:,52,:])#,vmin=0,vmax=vmax)\n",
    "axarr[1].pcolormesh(xlong_dummy,wrfoutd_ds.Z[6,:,1,:].values,wrfoutd_ds[qw][6,:,1,:].values)#,vmin=0,vmax=vmax)\n",
    "#axarr[2].pcolormesh(ids['lon'],ids['z'],ids[qi][0,:],vmin=0,vmax=vmax)\n",
    "axarr[0].set_title('icar sounding')\n",
    "axarr[1].set_title('wrfout')\n",
    "#axarr[2].set_title('icar')\n",
    "axarr[2].set_ylim(0,6000)\n",
    "axarr[0].set_xlim(89.,91.)\n",
    "plt.tight_layout()"
   ]
  },
  {
   "cell_type": "code",
   "execution_count": null,
   "metadata": {},
   "outputs": [],
   "source": [
    "icar_sounding_ds['T'][0,:,52,0].plot()\n",
    "icar_sounding_ds['T'][1,:,52,0].plot()\n",
    "\n",
    "#plt.plot(qv_arr)\n"
   ]
  },
  {
   "cell_type": "code",
   "execution_count": null,
   "metadata": {},
   "outputs": [],
   "source": [
    "th_arr_snding = icar_sounding_ds['T'][0,:,0,200]\n",
    "z_arr_snding  = icar_sounding_ds['PH'][0,:,0,200]\n",
    "for n, z in enumerate(z_arr_snding):\n",
    "    \n",
    "    if n < len(z_arr)-1:\n",
    "        N_arr[n]  = np.sqrt(9.81*(np.log(th_arr_snding[n+1])-np.log(th_arr_snding[n]))/(z_arr_snding[n+1]-z_arr_snding[n]))"
   ]
  },
  {
   "cell_type": "code",
   "execution_count": null,
   "metadata": {},
   "outputs": [],
   "source": []
  }
 ],
 "metadata": {
  "kernelspec": {
   "display_name": "Python 3",
   "language": "python",
   "name": "python3"
  },
  "language_info": {
   "codemirror_mode": {
    "name": "ipython",
    "version": 3
   },
   "file_extension": ".py",
   "mimetype": "text/x-python",
   "name": "python",
   "nbconvert_exporter": "python",
   "pygments_lexer": "ipython3",
   "version": "3.6.8"
  }
 },
 "nbformat": 4,
 "nbformat_minor": 2
}
